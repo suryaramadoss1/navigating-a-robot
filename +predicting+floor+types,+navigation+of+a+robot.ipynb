{
 "cells": [
  {
   "cell_type": "code",
   "execution_count": 1,
   "metadata": {
    "collapsed": true
   },
   "outputs": [],
   "source": [
    "import numpy as np # linear algebra \n",
    "import pandas as pd # data processing, CSV file I/O (e.g. pd.read_csv) \n",
    "%matplotlib inline \n",
    "import matplotlib.pyplot as plt  # Matlab-style plotting \n",
    "import seaborn as sns \n",
    "color = sns.color_palette() \n",
    "import warnings \n",
    "warnings.filterwarnings('ignore') #Supress unnecessary warnings for readabilit y and cleaner presentation \n",
    "pd.set_option('display.float_format', lambda x: '%.3f' % x) #Limiting floats o utput to 3 decimal points "
   ]
  },
  {
   "cell_type": "code",
   "execution_count": 4,
   "metadata": {
    "collapsed": false
   },
   "outputs": [
    {
     "data": {
      "text/html": [
       "<div>\n",
       "<style scoped>\n",
       "    .dataframe tbody tr th:only-of-type {\n",
       "        vertical-align: middle;\n",
       "    }\n",
       "\n",
       "    .dataframe tbody tr th {\n",
       "        vertical-align: top;\n",
       "    }\n",
       "\n",
       "    .dataframe thead th {\n",
       "        text-align: right;\n",
       "    }\n",
       "</style>\n",
       "<table border=\"1\" class=\"dataframe\">\n",
       "  <thead>\n",
       "    <tr style=\"text-align: right;\">\n",
       "      <th></th>\n",
       "      <th>row_id</th>\n",
       "      <th>series_id</th>\n",
       "      <th>measurement_number</th>\n",
       "      <th>orientation_X</th>\n",
       "      <th>orientation_Y</th>\n",
       "      <th>orientation_Z</th>\n",
       "      <th>orientation_W</th>\n",
       "      <th>angular_velocity_X</th>\n",
       "      <th>angular_velocity_Y</th>\n",
       "      <th>angular_velocity_Z</th>\n",
       "      <th>linear_acceleration_X</th>\n",
       "      <th>linear_acceleration_Y</th>\n",
       "      <th>linear_acceleration_Z</th>\n",
       "    </tr>\n",
       "  </thead>\n",
       "  <tbody>\n",
       "    <tr>\n",
       "      <th>0</th>\n",
       "      <td>0_0</td>\n",
       "      <td>0</td>\n",
       "      <td>0</td>\n",
       "      <td>-0.759</td>\n",
       "      <td>-0.634</td>\n",
       "      <td>-0.105</td>\n",
       "      <td>-0.106</td>\n",
       "      <td>0.108</td>\n",
       "      <td>0.018</td>\n",
       "      <td>0.001</td>\n",
       "      <td>-0.749</td>\n",
       "      <td>2.103</td>\n",
       "      <td>-9.753</td>\n",
       "    </tr>\n",
       "    <tr>\n",
       "      <th>1</th>\n",
       "      <td>0_1</td>\n",
       "      <td>0</td>\n",
       "      <td>1</td>\n",
       "      <td>-0.759</td>\n",
       "      <td>-0.634</td>\n",
       "      <td>-0.105</td>\n",
       "      <td>-0.106</td>\n",
       "      <td>0.068</td>\n",
       "      <td>0.030</td>\n",
       "      <td>0.003</td>\n",
       "      <td>0.340</td>\n",
       "      <td>1.506</td>\n",
       "      <td>-9.413</td>\n",
       "    </tr>\n",
       "    <tr>\n",
       "      <th>2</th>\n",
       "      <td>0_2</td>\n",
       "      <td>0</td>\n",
       "      <td>2</td>\n",
       "      <td>-0.759</td>\n",
       "      <td>-0.634</td>\n",
       "      <td>-0.105</td>\n",
       "      <td>-0.106</td>\n",
       "      <td>0.007</td>\n",
       "      <td>0.029</td>\n",
       "      <td>-0.006</td>\n",
       "      <td>-0.264</td>\n",
       "      <td>1.592</td>\n",
       "      <td>-8.727</td>\n",
       "    </tr>\n",
       "    <tr>\n",
       "      <th>3</th>\n",
       "      <td>0_3</td>\n",
       "      <td>0</td>\n",
       "      <td>3</td>\n",
       "      <td>-0.759</td>\n",
       "      <td>-0.634</td>\n",
       "      <td>-0.105</td>\n",
       "      <td>-0.106</td>\n",
       "      <td>-0.013</td>\n",
       "      <td>0.019</td>\n",
       "      <td>-0.009</td>\n",
       "      <td>0.427</td>\n",
       "      <td>1.099</td>\n",
       "      <td>-10.096</td>\n",
       "    </tr>\n",
       "    <tr>\n",
       "      <th>4</th>\n",
       "      <td>0_4</td>\n",
       "      <td>0</td>\n",
       "      <td>4</td>\n",
       "      <td>-0.759</td>\n",
       "      <td>-0.634</td>\n",
       "      <td>-0.105</td>\n",
       "      <td>-0.106</td>\n",
       "      <td>0.005</td>\n",
       "      <td>0.008</td>\n",
       "      <td>0.005</td>\n",
       "      <td>-0.510</td>\n",
       "      <td>1.469</td>\n",
       "      <td>-10.441</td>\n",
       "    </tr>\n",
       "  </tbody>\n",
       "</table>\n",
       "</div>"
      ],
      "text/plain": [
       "  row_id  series_id  measurement_number  orientation_X  orientation_Y  \\\n",
       "0    0_0          0                   0         -0.759         -0.634   \n",
       "1    0_1          0                   1         -0.759         -0.634   \n",
       "2    0_2          0                   2         -0.759         -0.634   \n",
       "3    0_3          0                   3         -0.759         -0.634   \n",
       "4    0_4          0                   4         -0.759         -0.634   \n",
       "\n",
       "   orientation_Z  orientation_W  angular_velocity_X  angular_velocity_Y  \\\n",
       "0         -0.105         -0.106               0.108               0.018   \n",
       "1         -0.105         -0.106               0.068               0.030   \n",
       "2         -0.105         -0.106               0.007               0.029   \n",
       "3         -0.105         -0.106              -0.013               0.019   \n",
       "4         -0.105         -0.106               0.005               0.008   \n",
       "\n",
       "   angular_velocity_Z  linear_acceleration_X  linear_acceleration_Y  \\\n",
       "0               0.001                 -0.749                  2.103   \n",
       "1               0.003                  0.340                  1.506   \n",
       "2              -0.006                 -0.264                  1.592   \n",
       "3              -0.009                  0.427                  1.099   \n",
       "4               0.005                 -0.510                  1.469   \n",
       "\n",
       "   linear_acceleration_Z  \n",
       "0                 -9.753  \n",
       "1                 -9.413  \n",
       "2                 -8.727  \n",
       "3                -10.096  \n",
       "4                -10.441  "
      ]
     },
     "execution_count": 4,
     "metadata": {},
     "output_type": "execute_result"
    }
   ],
   "source": [
    "train = pd.read_csv('C:\\\\Users\\\\Surya\\\\Desktop\\\\career-con-2019\\\\X_train.csv') \n",
    "train.head(5)"
   ]
  },
  {
   "cell_type": "code",
   "execution_count": 4,
   "metadata": {
    "collapsed": false
   },
   "outputs": [
    {
     "name": "stdout",
     "output_type": "stream",
     "text": [
      "(       series_id  measurement_number  orientation_X  orientation_Y  \\\n",
      "count 487680.000          487680.000     487680.000     487680.000   \n",
      "mean    1904.500              63.500         -0.018          0.075   \n",
      "std     1099.853              36.949          0.686          0.708   \n",
      "min        0.000               0.000         -0.989         -0.990   \n",
      "25%      952.000              31.750         -0.705         -0.689   \n",
      "50%     1904.500              63.500         -0.106          0.238   \n",
      "75%     2857.000              95.250          0.652          0.810   \n",
      "max     3809.000             127.000          0.989          0.989   \n",
      "\n",
      "       orientation_Z  orientation_W  angular_velocity_X  angular_velocity_Y  \\\n",
      "count     487680.000     487680.000          487680.000          487680.000   \n",
      "mean           0.012         -0.004               0.000               0.008   \n",
      "std            0.106          0.104               0.118               0.089   \n",
      "min           -0.163         -0.157              -2.371              -0.928   \n",
      "25%           -0.089         -0.106              -0.041              -0.033   \n",
      "50%            0.032         -0.019               0.000               0.005   \n",
      "75%            0.123          0.097               0.041               0.048   \n",
      "max            0.156          0.155               2.282               1.079   \n",
      "\n",
      "       angular_velocity_Z  linear_acceleration_X  linear_acceleration_Y  \\\n",
      "count          487680.000             487680.000             487680.000   \n",
      "mean               -0.019                  0.129                  2.886   \n",
      "std                 0.229                  1.871                  2.140   \n",
      "min                -1.269                -36.067               -121.490   \n",
      "25%                -0.091                 -0.531                  1.958   \n",
      "50%                -0.005                  0.125                  2.880   \n",
      "75%                 0.065                  0.792                  3.799   \n",
      "max                 1.387                 36.797                 73.008   \n",
      "\n",
      "       linear_acceleration_Z  \n",
      "count             487680.000  \n",
      "mean                  -9.365  \n",
      "std                    2.845  \n",
      "min                  -75.386  \n",
      "25%                  -10.193  \n",
      "50%                   -9.365  \n",
      "75%                   -8.523  \n",
      "max                   65.839  , Index([u'row_id', u'series_id', u'measurement_number', u'orientation_X',\n",
      "       u'orientation_Y', u'orientation_Z', u'orientation_W',\n",
      "       u'angular_velocity_X', u'angular_velocity_Y', u'angular_velocity_Z',\n",
      "       u'linear_acceleration_X', u'linear_acceleration_Y',\n",
      "       u'linear_acceleration_Z'],\n",
      "      dtype='object'), row_id                    object\n",
      "series_id                  int64\n",
      "measurement_number         int64\n",
      "orientation_X            float64\n",
      "orientation_Y            float64\n",
      "orientation_Z            float64\n",
      "orientation_W            float64\n",
      "angular_velocity_X       float64\n",
      "angular_velocity_Y       float64\n",
      "angular_velocity_Z       float64\n",
      "linear_acceleration_X    float64\n",
      "linear_acceleration_Y    float64\n",
      "linear_acceleration_Z    float64\n",
      "dtype: object, (487680, 13))\n"
     ]
    }
   ],
   "source": [
    "print(train.describe(), train.columns,  train.dtypes,  train.shape) "
   ]
  },
  {
   "cell_type": "code",
   "execution_count": 5,
   "metadata": {
    "collapsed": false
   },
   "outputs": [
    {
     "data": {
      "text/plain": [
       "row_id                   0\n",
       "series_id                0\n",
       "measurement_number       0\n",
       "orientation_X            0\n",
       "orientation_Y            0\n",
       "orientation_Z            0\n",
       "orientation_W            0\n",
       "angular_velocity_X       0\n",
       "angular_velocity_Y       0\n",
       "angular_velocity_Z       0\n",
       "linear_acceleration_X    0\n",
       "linear_acceleration_Y    0\n",
       "linear_acceleration_Z    0\n",
       "dtype: int64"
      ]
     },
     "execution_count": 5,
     "metadata": {},
     "output_type": "execute_result"
    }
   ],
   "source": [
    "train.isnull().sum()"
   ]
  },
  {
   "cell_type": "code",
   "execution_count": 3,
   "metadata": {
    "collapsed": false
   },
   "outputs": [
    {
     "data": {
      "text/plain": [
       "<matplotlib.axes._subplots.AxesSubplot at 0x1a563518>"
      ]
     },
     "execution_count": 3,
     "metadata": {},
     "output_type": "execute_result"
    },
    {
     "data": {
      "image/png": "[encoded data removed]",
      "text/plain": [
       "<matplotlib.figure.Figure at 0x1a552080>"
      ]
     },
     "metadata": {},
     "output_type": "display_data"
    }
   ],
   "source": [
    "#correlation plot\n",
    "corr = train.corr()\n",
    "sns.heatmap(corr)"
   ]
  },
  {
   "cell_type": "code",
   "execution_count": 5,
   "metadata": {
    "collapsed": false
   },
   "outputs": [
    {
     "data": {
      "text/html": [
       "<div>\n",
       "<style scoped>\n",
       "    .dataframe tbody tr th:only-of-type {\n",
       "        vertical-align: middle;\n",
       "    }\n",
       "\n",
       "    .dataframe tbody tr th {\n",
       "        vertical-align: top;\n",
       "    }\n",
       "\n",
       "    .dataframe thead th {\n",
       "        text-align: right;\n",
       "    }\n",
       "</style>\n",
       "<table border=\"1\" class=\"dataframe\">\n",
       "  <thead>\n",
       "    <tr style=\"text-align: right;\">\n",
       "      <th></th>\n",
       "      <th>series_id</th>\n",
       "      <th>group_id</th>\n",
       "      <th>surface</th>\n",
       "    </tr>\n",
       "  </thead>\n",
       "  <tbody>\n",
       "    <tr>\n",
       "      <th>0</th>\n",
       "      <td>0</td>\n",
       "      <td>13</td>\n",
       "      <td>fine_concrete</td>\n",
       "    </tr>\n",
       "    <tr>\n",
       "      <th>1</th>\n",
       "      <td>1</td>\n",
       "      <td>31</td>\n",
       "      <td>concrete</td>\n",
       "    </tr>\n",
       "    <tr>\n",
       "      <th>2</th>\n",
       "      <td>2</td>\n",
       "      <td>20</td>\n",
       "      <td>concrete</td>\n",
       "    </tr>\n",
       "    <tr>\n",
       "      <th>3</th>\n",
       "      <td>3</td>\n",
       "      <td>31</td>\n",
       "      <td>concrete</td>\n",
       "    </tr>\n",
       "    <tr>\n",
       "      <th>4</th>\n",
       "      <td>4</td>\n",
       "      <td>22</td>\n",
       "      <td>soft_tiles</td>\n",
       "    </tr>\n",
       "  </tbody>\n",
       "</table>\n",
       "</div>"
      ],
      "text/plain": [
       "   series_id  group_id        surface\n",
       "0          0        13  fine_concrete\n",
       "1          1        31       concrete\n",
       "2          2        20       concrete\n",
       "3          3        31       concrete\n",
       "4          4        22     soft_tiles"
      ]
     },
     "execution_count": 5,
     "metadata": {},
     "output_type": "execute_result"
    }
   ],
   "source": [
    "train1 = pd.read_csv('C:\\\\Users\\\\Surya\\\\Desktop\\\\career-con-2019\\\\y_train.csv') \n",
    "train1.head(5)"
   ]
  },
  {
   "cell_type": "code",
   "execution_count": 53,
   "metadata": {
    "collapsed": false
   },
   "outputs": [
    {
     "name": "stdout",
     "output_type": "stream",
     "text": [
      "(       series_id  group_id\n",
      "count   3810.000  3810.000\n",
      "mean    1904.500    37.601\n",
      "std     1099.997    20.983\n",
      "min        0.000     0.000\n",
      "25%      952.250    19.000\n",
      "50%     1904.500    39.000\n",
      "75%     2856.750    55.000\n",
      "max     3809.000    72.000, Index([u'series_id', u'group_id', u'surface'], dtype='object'), series_id     int64\n",
      "group_id      int64\n",
      "surface      object\n",
      "dtype: object, (3810, 3))\n"
     ]
    }
   ],
   "source": [
    "print(train1.describe(), train1.columns,  train1.dtypes,  train1.shape) "
   ]
  },
  {
   "cell_type": "code",
   "execution_count": 10,
   "metadata": {
    "collapsed": false
   },
   "outputs": [
    {
     "data": {
      "text/plain": [
       "series_id    0\n",
       "group_id     0\n",
       "surface      0\n",
       "dtype: int64"
      ]
     },
     "execution_count": 10,
     "metadata": {},
     "output_type": "execute_result"
    }
   ],
   "source": [
    "train1.isnull().sum()"
   ]
  },
  {
   "cell_type": "code",
   "execution_count": 6,
   "metadata": {
    "collapsed": false
   },
   "outputs": [
    {
     "data": {
      "text/plain": [
       "(487680, 15)"
      ]
     },
     "execution_count": 6,
     "metadata": {},
     "output_type": "execute_result"
    }
   ],
   "source": [
    "alldata = train.merge(train1)\n",
    "alldata.shape"
   ]
  },
  {
   "cell_type": "code",
   "execution_count": 13,
   "metadata": {
    "collapsed": false
   },
   "outputs": [
    {
     "data": {
      "text/html": [
       "<div>\n",
       "<style scoped>\n",
       "    .dataframe tbody tr th:only-of-type {\n",
       "        vertical-align: middle;\n",
       "    }\n",
       "\n",
       "    .dataframe tbody tr th {\n",
       "        vertical-align: top;\n",
       "    }\n",
       "\n",
       "    .dataframe thead th {\n",
       "        text-align: right;\n",
       "    }\n",
       "</style>\n",
       "<table border=\"1\" class=\"dataframe\">\n",
       "  <thead>\n",
       "    <tr style=\"text-align: right;\">\n",
       "      <th></th>\n",
       "      <th>row_id</th>\n",
       "      <th>series_id</th>\n",
       "      <th>measurement_number</th>\n",
       "      <th>orientation_X</th>\n",
       "      <th>orientation_Y</th>\n",
       "      <th>orientation_Z</th>\n",
       "      <th>orientation_W</th>\n",
       "      <th>angular_velocity_X</th>\n",
       "      <th>angular_velocity_Y</th>\n",
       "      <th>angular_velocity_Z</th>\n",
       "      <th>linear_acceleration_X</th>\n",
       "      <th>linear_acceleration_Y</th>\n",
       "      <th>linear_acceleration_Z</th>\n",
       "      <th>group_id</th>\n",
       "      <th>surface</th>\n",
       "    </tr>\n",
       "  </thead>\n",
       "  <tbody>\n",
       "    <tr>\n",
       "      <th>0</th>\n",
       "      <td>0_0</td>\n",
       "      <td>0</td>\n",
       "      <td>0</td>\n",
       "      <td>-0.759</td>\n",
       "      <td>-0.634</td>\n",
       "      <td>-0.105</td>\n",
       "      <td>-0.106</td>\n",
       "      <td>0.108</td>\n",
       "      <td>0.018</td>\n",
       "      <td>0.001</td>\n",
       "      <td>-0.749</td>\n",
       "      <td>2.103</td>\n",
       "      <td>-9.753</td>\n",
       "      <td>13</td>\n",
       "      <td>fine_concrete</td>\n",
       "    </tr>\n",
       "    <tr>\n",
       "      <th>1</th>\n",
       "      <td>0_1</td>\n",
       "      <td>0</td>\n",
       "      <td>1</td>\n",
       "      <td>-0.759</td>\n",
       "      <td>-0.634</td>\n",
       "      <td>-0.105</td>\n",
       "      <td>-0.106</td>\n",
       "      <td>0.068</td>\n",
       "      <td>0.030</td>\n",
       "      <td>0.003</td>\n",
       "      <td>0.340</td>\n",
       "      <td>1.506</td>\n",
       "      <td>-9.413</td>\n",
       "      <td>13</td>\n",
       "      <td>fine_concrete</td>\n",
       "    </tr>\n",
       "    <tr>\n",
       "      <th>2</th>\n",
       "      <td>0_2</td>\n",
       "      <td>0</td>\n",
       "      <td>2</td>\n",
       "      <td>-0.759</td>\n",
       "      <td>-0.634</td>\n",
       "      <td>-0.105</td>\n",
       "      <td>-0.106</td>\n",
       "      <td>0.007</td>\n",
       "      <td>0.029</td>\n",
       "      <td>-0.006</td>\n",
       "      <td>-0.264</td>\n",
       "      <td>1.592</td>\n",
       "      <td>-8.727</td>\n",
       "      <td>13</td>\n",
       "      <td>fine_concrete</td>\n",
       "    </tr>\n",
       "    <tr>\n",
       "      <th>3</th>\n",
       "      <td>0_3</td>\n",
       "      <td>0</td>\n",
       "      <td>3</td>\n",
       "      <td>-0.759</td>\n",
       "      <td>-0.634</td>\n",
       "      <td>-0.105</td>\n",
       "      <td>-0.106</td>\n",
       "      <td>-0.013</td>\n",
       "      <td>0.019</td>\n",
       "      <td>-0.009</td>\n",
       "      <td>0.427</td>\n",
       "      <td>1.099</td>\n",
       "      <td>-10.096</td>\n",
       "      <td>13</td>\n",
       "      <td>fine_concrete</td>\n",
       "    </tr>\n",
       "    <tr>\n",
       "      <th>4</th>\n",
       "      <td>0_4</td>\n",
       "      <td>0</td>\n",
       "      <td>4</td>\n",
       "      <td>-0.759</td>\n",
       "      <td>-0.634</td>\n",
       "      <td>-0.105</td>\n",
       "      <td>-0.106</td>\n",
       "      <td>0.005</td>\n",
       "      <td>0.008</td>\n",
       "      <td>0.005</td>\n",
       "      <td>-0.510</td>\n",
       "      <td>1.469</td>\n",
       "      <td>-10.441</td>\n",
       "      <td>13</td>\n",
       "      <td>fine_concrete</td>\n",
       "    </tr>\n",
       "  </tbody>\n",
       "</table>\n",
       "</div>"
      ],
      "text/plain": [
       "  row_id  series_id  measurement_number  orientation_X  orientation_Y  \\\n",
       "0    0_0          0                   0         -0.759         -0.634   \n",
       "1    0_1          0                   1         -0.759         -0.634   \n",
       "2    0_2          0                   2         -0.759         -0.634   \n",
       "3    0_3          0                   3         -0.759         -0.634   \n",
       "4    0_4          0                   4         -0.759         -0.634   \n",
       "\n",
       "   orientation_Z  orientation_W  angular_velocity_X  angular_velocity_Y  \\\n",
       "0         -0.105         -0.106               0.108               0.018   \n",
       "1         -0.105         -0.106               0.068               0.030   \n",
       "2         -0.105         -0.106               0.007               0.029   \n",
       "3         -0.105         -0.106              -0.013               0.019   \n",
       "4         -0.105         -0.106               0.005               0.008   \n",
       "\n",
       "   angular_velocity_Z  linear_acceleration_X  linear_acceleration_Y  \\\n",
       "0               0.001                 -0.749                  2.103   \n",
       "1               0.003                  0.340                  1.506   \n",
       "2              -0.006                 -0.264                  1.592   \n",
       "3              -0.009                  0.427                  1.099   \n",
       "4               0.005                 -0.510                  1.469   \n",
       "\n",
       "   linear_acceleration_Z  group_id        surface  \n",
       "0                 -9.753        13  fine_concrete  \n",
       "1                 -9.413        13  fine_concrete  \n",
       "2                 -8.727        13  fine_concrete  \n",
       "3                -10.096        13  fine_concrete  \n",
       "4                -10.441        13  fine_concrete  "
      ]
     },
     "execution_count": 13,
     "metadata": {},
     "output_type": "execute_result"
    }
   ],
   "source": [
    "alldata.head()"
   ]
  },
  {
   "cell_type": "code",
   "execution_count": 14,
   "metadata": {
    "collapsed": false
   },
   "outputs": [
    {
     "data": {
      "text/plain": [
       "(487680, 15)"
      ]
     },
     "execution_count": 14,
     "metadata": {},
     "output_type": "execute_result"
    }
   ],
   "source": [
    "alldata.shape"
   ]
  },
  {
   "cell_type": "code",
   "execution_count": 7,
   "metadata": {
    "collapsed": false
   },
   "outputs": [
    {
     "data": {
      "text/html": [
       "<div>\n",
       "<style scoped>\n",
       "    .dataframe tbody tr th:only-of-type {\n",
       "        vertical-align: middle;\n",
       "    }\n",
       "\n",
       "    .dataframe tbody tr th {\n",
       "        vertical-align: top;\n",
       "    }\n",
       "\n",
       "    .dataframe thead th {\n",
       "        text-align: right;\n",
       "    }\n",
       "</style>\n",
       "<table border=\"1\" class=\"dataframe\">\n",
       "  <thead>\n",
       "    <tr style=\"text-align: right;\">\n",
       "      <th></th>\n",
       "      <th>row_id</th>\n",
       "      <th>series_id</th>\n",
       "      <th>measurement_number</th>\n",
       "      <th>orientation_X</th>\n",
       "      <th>orientation_Y</th>\n",
       "      <th>orientation_Z</th>\n",
       "      <th>orientation_W</th>\n",
       "      <th>angular_velocity_X</th>\n",
       "      <th>angular_velocity_Y</th>\n",
       "      <th>angular_velocity_Z</th>\n",
       "      <th>linear_acceleration_X</th>\n",
       "      <th>linear_acceleration_Y</th>\n",
       "      <th>linear_acceleration_Z</th>\n",
       "    </tr>\n",
       "  </thead>\n",
       "  <tbody>\n",
       "    <tr>\n",
       "      <th>0</th>\n",
       "      <td>0_0</td>\n",
       "      <td>0</td>\n",
       "      <td>0</td>\n",
       "      <td>-0.026</td>\n",
       "      <td>-0.989</td>\n",
       "      <td>-0.148</td>\n",
       "      <td>0.003</td>\n",
       "      <td>-0.007</td>\n",
       "      <td>-0.001</td>\n",
       "      <td>-0.027</td>\n",
       "      <td>0.100</td>\n",
       "      <td>4.206</td>\n",
       "      <td>-5.544</td>\n",
       "    </tr>\n",
       "    <tr>\n",
       "      <th>1</th>\n",
       "      <td>0_1</td>\n",
       "      <td>0</td>\n",
       "      <td>1</td>\n",
       "      <td>-0.026</td>\n",
       "      <td>-0.989</td>\n",
       "      <td>-0.148</td>\n",
       "      <td>0.003</td>\n",
       "      <td>-0.114</td>\n",
       "      <td>0.084</td>\n",
       "      <td>-0.061</td>\n",
       "      <td>-0.709</td>\n",
       "      <td>3.990</td>\n",
       "      <td>-8.027</td>\n",
       "    </tr>\n",
       "    <tr>\n",
       "      <th>2</th>\n",
       "      <td>0_2</td>\n",
       "      <td>0</td>\n",
       "      <td>2</td>\n",
       "      <td>-0.026</td>\n",
       "      <td>-0.989</td>\n",
       "      <td>-0.148</td>\n",
       "      <td>0.004</td>\n",
       "      <td>-0.081</td>\n",
       "      <td>0.115</td>\n",
       "      <td>-0.037</td>\n",
       "      <td>1.457</td>\n",
       "      <td>2.283</td>\n",
       "      <td>-11.299</td>\n",
       "    </tr>\n",
       "    <tr>\n",
       "      <th>3</th>\n",
       "      <td>0_3</td>\n",
       "      <td>0</td>\n",
       "      <td>3</td>\n",
       "      <td>-0.026</td>\n",
       "      <td>-0.989</td>\n",
       "      <td>-0.148</td>\n",
       "      <td>0.004</td>\n",
       "      <td>0.070</td>\n",
       "      <td>0.034</td>\n",
       "      <td>-0.036</td>\n",
       "      <td>0.711</td>\n",
       "      <td>1.858</td>\n",
       "      <td>-12.227</td>\n",
       "    </tr>\n",
       "    <tr>\n",
       "      <th>4</th>\n",
       "      <td>0_4</td>\n",
       "      <td>0</td>\n",
       "      <td>4</td>\n",
       "      <td>-0.026</td>\n",
       "      <td>-0.989</td>\n",
       "      <td>-0.148</td>\n",
       "      <td>0.003</td>\n",
       "      <td>0.152</td>\n",
       "      <td>-0.029</td>\n",
       "      <td>-0.015</td>\n",
       "      <td>3.400</td>\n",
       "      <td>2.788</td>\n",
       "      <td>-10.410</td>\n",
       "    </tr>\n",
       "  </tbody>\n",
       "</table>\n",
       "</div>"
      ],
      "text/plain": [
       "  row_id  series_id  measurement_number  orientation_X  orientation_Y  \\\n",
       "0    0_0          0                   0         -0.026         -0.989   \n",
       "1    0_1          0                   1         -0.026         -0.989   \n",
       "2    0_2          0                   2         -0.026         -0.989   \n",
       "3    0_3          0                   3         -0.026         -0.989   \n",
       "4    0_4          0                   4         -0.026         -0.989   \n",
       "\n",
       "   orientation_Z  orientation_W  angular_velocity_X  angular_velocity_Y  \\\n",
       "0         -0.148          0.003              -0.007              -0.001   \n",
       "1         -0.148          0.003              -0.114               0.084   \n",
       "2         -0.148          0.004              -0.081               0.115   \n",
       "3         -0.148          0.004               0.070               0.034   \n",
       "4         -0.148          0.003               0.152              -0.029   \n",
       "\n",
       "   angular_velocity_Z  linear_acceleration_X  linear_acceleration_Y  \\\n",
       "0              -0.027                  0.100                  4.206   \n",
       "1              -0.061                 -0.709                  3.990   \n",
       "2              -0.037                  1.457                  2.283   \n",
       "3              -0.036                  0.711                  1.858   \n",
       "4              -0.015                  3.400                  2.788   \n",
       "\n",
       "   linear_acceleration_Z  \n",
       "0                 -5.544  \n",
       "1                 -8.027  \n",
       "2                -11.299  \n",
       "3                -12.227  \n",
       "4                -10.410  "
      ]
     },
     "execution_count": 7,
     "metadata": {},
     "output_type": "execute_result"
    }
   ],
   "source": [
    "test = pd.read_csv('C:\\\\Users\\\\Surya\\\\Desktop\\\\career-con-2019\\\\X_test.csv') \n",
    "test.head(5)"
   ]
  },
  {
   "cell_type": "code",
   "execution_count": 15,
   "metadata": {
    "collapsed": false
   },
   "outputs": [
    {
     "name": "stdout",
     "output_type": "stream",
     "text": [
      "(       series_id  measurement_number  orientation_X  orientation_Y  \\\n",
      "count 488448.000          488448.000     488448.000     488448.000   \n",
      "mean    1907.500              63.500          0.032          0.121   \n",
      "std     1101.585              36.949          0.672          0.715   \n",
      "min        0.000               0.000         -0.990         -0.990   \n",
      "25%      953.750              31.750         -0.648         -0.745   \n",
      "50%     1907.500              63.500          0.133          0.398   \n",
      "75%     2861.250              95.250          0.575          0.804   \n",
      "max     3815.000             127.000          0.989          0.989   \n",
      "\n",
      "       orientation_Z  orientation_W  angular_velocity_X  angular_velocity_Y  \\\n",
      "count     488448.000     488448.000          488448.000          488448.000   \n",
      "mean           0.019          0.004               0.000               0.014   \n",
      "std            0.108          0.101               0.114               0.089   \n",
      "min           -0.155         -0.156              -2.403              -1.193   \n",
      "25%           -0.113         -0.098              -0.037              -0.030   \n",
      "50%            0.057          0.023               0.001               0.007   \n",
      "75%            0.125          0.084               0.038               0.051   \n",
      "max            0.154          0.153               3.397               1.151   \n",
      "\n",
      "       angular_velocity_Z  linear_acceleration_X  linear_acceleration_Y  \\\n",
      "count          488448.000             488448.000             488448.000   \n",
      "mean               -0.036                  0.125                  2.907   \n",
      "std                 0.234                  1.833                  2.095   \n",
      "min                -1.458                -35.040               -107.480   \n",
      "25%                -0.090                 -0.486                  2.052   \n",
      "50%                -0.009                  0.112                  2.900   \n",
      "75%                 0.058                  0.727                  3.758   \n",
      "max                 0.960                 36.628                 55.624   \n",
      "\n",
      "       linear_acceleration_Z  \n",
      "count             488448.000  \n",
      "mean                  -9.360  \n",
      "std                    2.803  \n",
      "min                  -83.173  \n",
      "25%                  -10.125  \n",
      "50%                   -9.362  \n",
      "75%                   -8.582  \n",
      "max                   59.633  , Index([u'row_id', u'series_id', u'measurement_number', u'orientation_X',\n",
      "       u'orientation_Y', u'orientation_Z', u'orientation_W',\n",
      "       u'angular_velocity_X', u'angular_velocity_Y', u'angular_velocity_Z',\n",
      "       u'linear_acceleration_X', u'linear_acceleration_Y',\n",
      "       u'linear_acceleration_Z'],\n",
      "      dtype='object'), row_id                    object\n",
      "series_id                  int64\n",
      "measurement_number         int64\n",
      "orientation_X            float64\n",
      "orientation_Y            float64\n",
      "orientation_Z            float64\n",
      "orientation_W            float64\n",
      "angular_velocity_X       float64\n",
      "angular_velocity_Y       float64\n",
      "angular_velocity_Z       float64\n",
      "linear_acceleration_X    float64\n",
      "linear_acceleration_Y    float64\n",
      "linear_acceleration_Z    float64\n",
      "dtype: object, (488448, 13))\n"
     ]
    }
   ],
   "source": [
    "print(test.describe(), test.columns,  test.dtypes,  test.shape) "
   ]
  },
  {
   "cell_type": "code",
   "execution_count": 16,
   "metadata": {
    "collapsed": false
   },
   "outputs": [
    {
     "data": {
      "text/plain": [
       "row_id                   0\n",
       "series_id                0\n",
       "measurement_number       0\n",
       "orientation_X            0\n",
       "orientation_Y            0\n",
       "orientation_Z            0\n",
       "orientation_W            0\n",
       "angular_velocity_X       0\n",
       "angular_velocity_Y       0\n",
       "angular_velocity_Z       0\n",
       "linear_acceleration_X    0\n",
       "linear_acceleration_Y    0\n",
       "linear_acceleration_Z    0\n",
       "dtype: int64"
      ]
     },
     "execution_count": 16,
     "metadata": {},
     "output_type": "execute_result"
    }
   ],
   "source": [
    "test.isnull().sum()"
   ]
  },
  {
   "cell_type": "code",
   "execution_count": 8,
   "metadata": {
    "collapsed": false
   },
   "outputs": [
    {
     "data": {
      "text/html": [
       "<div>\n",
       "<style scoped>\n",
       "    .dataframe tbody tr th:only-of-type {\n",
       "        vertical-align: middle;\n",
       "    }\n",
       "\n",
       "    .dataframe tbody tr th {\n",
       "        vertical-align: top;\n",
       "    }\n",
       "\n",
       "    .dataframe thead th {\n",
       "        text-align: right;\n",
       "    }\n",
       "</style>\n",
       "<table border=\"1\" class=\"dataframe\">\n",
       "  <thead>\n",
       "    <tr style=\"text-align: right;\">\n",
       "      <th></th>\n",
       "      <th>series_id</th>\n",
       "      <th>group_id</th>\n",
       "      <th>surface</th>\n",
       "    </tr>\n",
       "  </thead>\n",
       "  <tbody>\n",
       "    <tr>\n",
       "      <th>0</th>\n",
       "      <td>0</td>\n",
       "      <td>13</td>\n",
       "      <td>fine_concrete</td>\n",
       "    </tr>\n",
       "    <tr>\n",
       "      <th>1</th>\n",
       "      <td>1</td>\n",
       "      <td>31</td>\n",
       "      <td>concrete</td>\n",
       "    </tr>\n",
       "    <tr>\n",
       "      <th>2</th>\n",
       "      <td>2</td>\n",
       "      <td>20</td>\n",
       "      <td>concrete</td>\n",
       "    </tr>\n",
       "    <tr>\n",
       "      <th>3</th>\n",
       "      <td>3</td>\n",
       "      <td>31</td>\n",
       "      <td>concrete</td>\n",
       "    </tr>\n",
       "    <tr>\n",
       "      <th>4</th>\n",
       "      <td>4</td>\n",
       "      <td>22</td>\n",
       "      <td>soft_tiles</td>\n",
       "    </tr>\n",
       "  </tbody>\n",
       "</table>\n",
       "</div>"
      ],
      "text/plain": [
       "   series_id  group_id        surface\n",
       "0          0        13  fine_concrete\n",
       "1          1        31       concrete\n",
       "2          2        20       concrete\n",
       "3          3        31       concrete\n",
       "4          4        22     soft_tiles"
      ]
     },
     "execution_count": 8,
     "metadata": {},
     "output_type": "execute_result"
    }
   ],
   "source": [
    "test1 = pd.read_csv('C:\\\\Users\\\\Surya\\\\Desktop\\\\career-con-2019\\\\y_train.csv') \n",
    "test1.head(5)"
   ]
  },
  {
   "cell_type": "code",
   "execution_count": 72,
   "metadata": {
    "collapsed": false
   },
   "outputs": [
    {
     "name": "stdout",
     "output_type": "stream",
     "text": [
      "(       series_id  group_id\n",
      "count   3810.000  3810.000\n",
      "mean    1904.500    37.601\n",
      "std     1099.997    20.983\n",
      "min        0.000     0.000\n",
      "25%      952.250    19.000\n",
      "50%     1904.500    39.000\n",
      "75%     2856.750    55.000\n",
      "max     3809.000    72.000, Index([u'series_id', u'group_id', u'surface'], dtype='object'), series_id     int64\n",
      "group_id      int64\n",
      "surface      object\n",
      "dtype: object, (3810, 3))\n"
     ]
    }
   ],
   "source": [
    "print(test1.describe(), test1.columns,  test1.dtypes,  test1.shape) "
   ]
  },
  {
   "cell_type": "code",
   "execution_count": 9,
   "metadata": {
    "collapsed": false
   },
   "outputs": [
    {
     "data": {
      "text/plain": [
       "(487680, 15)"
      ]
     },
     "execution_count": 9,
     "metadata": {},
     "output_type": "execute_result"
    }
   ],
   "source": [
    "alldatatest = test.merge(test1)\n",
    "alldatatest.shape"
   ]
  },
  {
   "cell_type": "code",
   "execution_count": 18,
   "metadata": {
    "collapsed": false
   },
   "outputs": [
    {
     "data": {
      "text/html": [
       "<div>\n",
       "<style scoped>\n",
       "    .dataframe tbody tr th:only-of-type {\n",
       "        vertical-align: middle;\n",
       "    }\n",
       "\n",
       "    .dataframe tbody tr th {\n",
       "        vertical-align: top;\n",
       "    }\n",
       "\n",
       "    .dataframe thead th {\n",
       "        text-align: right;\n",
       "    }\n",
       "</style>\n",
       "<table border=\"1\" class=\"dataframe\">\n",
       "  <thead>\n",
       "    <tr style=\"text-align: right;\">\n",
       "      <th></th>\n",
       "      <th>row_id</th>\n",
       "      <th>series_id</th>\n",
       "      <th>measurement_number</th>\n",
       "      <th>orientation_X</th>\n",
       "      <th>orientation_Y</th>\n",
       "      <th>orientation_Z</th>\n",
       "      <th>orientation_W</th>\n",
       "      <th>angular_velocity_X</th>\n",
       "      <th>angular_velocity_Y</th>\n",
       "      <th>angular_velocity_Z</th>\n",
       "      <th>linear_acceleration_X</th>\n",
       "      <th>linear_acceleration_Y</th>\n",
       "      <th>linear_acceleration_Z</th>\n",
       "      <th>group_id</th>\n",
       "      <th>surface</th>\n",
       "    </tr>\n",
       "  </thead>\n",
       "  <tbody>\n",
       "    <tr>\n",
       "      <th>0</th>\n",
       "      <td>0_0</td>\n",
       "      <td>0</td>\n",
       "      <td>0</td>\n",
       "      <td>-0.026</td>\n",
       "      <td>-0.989</td>\n",
       "      <td>-0.148</td>\n",
       "      <td>0.003</td>\n",
       "      <td>-0.007</td>\n",
       "      <td>-0.001</td>\n",
       "      <td>-0.027</td>\n",
       "      <td>0.100</td>\n",
       "      <td>4.206</td>\n",
       "      <td>-5.544</td>\n",
       "      <td>13</td>\n",
       "      <td>fine_concrete</td>\n",
       "    </tr>\n",
       "    <tr>\n",
       "      <th>1</th>\n",
       "      <td>0_1</td>\n",
       "      <td>0</td>\n",
       "      <td>1</td>\n",
       "      <td>-0.026</td>\n",
       "      <td>-0.989</td>\n",
       "      <td>-0.148</td>\n",
       "      <td>0.003</td>\n",
       "      <td>-0.114</td>\n",
       "      <td>0.084</td>\n",
       "      <td>-0.061</td>\n",
       "      <td>-0.709</td>\n",
       "      <td>3.990</td>\n",
       "      <td>-8.027</td>\n",
       "      <td>13</td>\n",
       "      <td>fine_concrete</td>\n",
       "    </tr>\n",
       "    <tr>\n",
       "      <th>2</th>\n",
       "      <td>0_2</td>\n",
       "      <td>0</td>\n",
       "      <td>2</td>\n",
       "      <td>-0.026</td>\n",
       "      <td>-0.989</td>\n",
       "      <td>-0.148</td>\n",
       "      <td>0.004</td>\n",
       "      <td>-0.081</td>\n",
       "      <td>0.115</td>\n",
       "      <td>-0.037</td>\n",
       "      <td>1.457</td>\n",
       "      <td>2.283</td>\n",
       "      <td>-11.299</td>\n",
       "      <td>13</td>\n",
       "      <td>fine_concrete</td>\n",
       "    </tr>\n",
       "    <tr>\n",
       "      <th>3</th>\n",
       "      <td>0_3</td>\n",
       "      <td>0</td>\n",
       "      <td>3</td>\n",
       "      <td>-0.026</td>\n",
       "      <td>-0.989</td>\n",
       "      <td>-0.148</td>\n",
       "      <td>0.004</td>\n",
       "      <td>0.070</td>\n",
       "      <td>0.034</td>\n",
       "      <td>-0.036</td>\n",
       "      <td>0.711</td>\n",
       "      <td>1.858</td>\n",
       "      <td>-12.227</td>\n",
       "      <td>13</td>\n",
       "      <td>fine_concrete</td>\n",
       "    </tr>\n",
       "    <tr>\n",
       "      <th>4</th>\n",
       "      <td>0_4</td>\n",
       "      <td>0</td>\n",
       "      <td>4</td>\n",
       "      <td>-0.026</td>\n",
       "      <td>-0.989</td>\n",
       "      <td>-0.148</td>\n",
       "      <td>0.003</td>\n",
       "      <td>0.152</td>\n",
       "      <td>-0.029</td>\n",
       "      <td>-0.015</td>\n",
       "      <td>3.400</td>\n",
       "      <td>2.788</td>\n",
       "      <td>-10.410</td>\n",
       "      <td>13</td>\n",
       "      <td>fine_concrete</td>\n",
       "    </tr>\n",
       "  </tbody>\n",
       "</table>\n",
       "</div>"
      ],
      "text/plain": [
       "  row_id  series_id  measurement_number  orientation_X  orientation_Y  \\\n",
       "0    0_0          0                   0         -0.026         -0.989   \n",
       "1    0_1          0                   1         -0.026         -0.989   \n",
       "2    0_2          0                   2         -0.026         -0.989   \n",
       "3    0_3          0                   3         -0.026         -0.989   \n",
       "4    0_4          0                   4         -0.026         -0.989   \n",
       "\n",
       "   orientation_Z  orientation_W  angular_velocity_X  angular_velocity_Y  \\\n",
       "0         -0.148          0.003              -0.007              -0.001   \n",
       "1         -0.148          0.003              -0.114               0.084   \n",
       "2         -0.148          0.004              -0.081               0.115   \n",
       "3         -0.148          0.004               0.070               0.034   \n",
       "4         -0.148          0.003               0.152              -0.029   \n",
       "\n",
       "   angular_velocity_Z  linear_acceleration_X  linear_acceleration_Y  \\\n",
       "0              -0.027                  0.100                  4.206   \n",
       "1              -0.061                 -0.709                  3.990   \n",
       "2              -0.037                  1.457                  2.283   \n",
       "3              -0.036                  0.711                  1.858   \n",
       "4              -0.015                  3.400                  2.788   \n",
       "\n",
       "   linear_acceleration_Z  group_id        surface  \n",
       "0                 -5.544        13  fine_concrete  \n",
       "1                 -8.027        13  fine_concrete  \n",
       "2                -11.299        13  fine_concrete  \n",
       "3                -12.227        13  fine_concrete  \n",
       "4                -10.410        13  fine_concrete  "
      ]
     },
     "execution_count": 18,
     "metadata": {},
     "output_type": "execute_result"
    }
   ],
   "source": [
    "alldatatest.head()"
   ]
  },
  {
   "cell_type": "code",
   "execution_count": 10,
   "metadata": {
    "collapsed": false
   },
   "outputs": [
    {
     "data": {
      "text/plain": [
       "(487680L,)"
      ]
     },
     "execution_count": 10,
     "metadata": {},
     "output_type": "execute_result"
    }
   ],
   "source": [
    "tr = alldata['series_id']\n",
    "tr.shape"
   ]
  },
  {
   "cell_type": "code",
   "execution_count": 11,
   "metadata": {
    "collapsed": false
   },
   "outputs": [
    {
     "data": {
      "text/plain": [
       "(487680L,)"
      ]
     },
     "execution_count": 11,
     "metadata": {},
     "output_type": "execute_result"
    }
   ],
   "source": [
    "\n",
    "te = alldatatest['series_id']\n",
    "te.shape"
   ]
  },
  {
   "cell_type": "code",
   "execution_count": 12,
   "metadata": {
    "collapsed": false
   },
   "outputs": [],
   "source": [
    "alldata.drop([ \"group_id\", \"measurement_number\", \"row_id\"], axis=1, inplace=True)\n",
    "alldatatest.drop([\"group_id\", \"measurement_number\", \"row_id\"], axis=1, inplace=True)"
   ]
  },
  {
   "cell_type": "code",
   "execution_count": 59,
   "metadata": {
    "collapsed": false
   },
   "outputs": [],
   "source": [
    "#alldata.drop([\"surface\"], axis=1, inplace=True)\n",
    "#alldatatest.drop([\"surface\"], axis=1, inplace=True)"
   ]
  },
  {
   "cell_type": "code",
   "execution_count": 199,
   "metadata": {
    "collapsed": false
   },
   "outputs": [
    {
     "data": {
      "text/plain": [
       "Index([u'series_id', u'orientation_X', u'orientation_Y', u'orientation_Z',\n",
       "       u'orientation_W', u'angular_velocity_X', u'angular_velocity_Y',\n",
       "       u'angular_velocity_Z', u'linear_acceleration_X',\n",
       "       u'linear_acceleration_Y', u'linear_acceleration_Z', u'surface'],\n",
       "      dtype='object')"
      ]
     },
     "execution_count": 199,
     "metadata": {},
     "output_type": "execute_result"
    }
   ],
   "source": [
    "alldata.columns"
   ]
  },
  {
   "cell_type": "code",
   "execution_count": 13,
   "metadata": {
    "collapsed": false
   },
   "outputs": [],
   "source": [
    "alldatatest.drop([\"surface\", \"series_id\"], axis=1, inplace=True)\n",
    "alldata.drop([\"surface\", \"series_id\"], axis=1, inplace=True)"
   ]
  },
  {
   "cell_type": "code",
   "execution_count": 14,
   "metadata": {
    "collapsed": false
   },
   "outputs": [
    {
     "data": {
      "text/plain": [
       "(487680, 10)"
      ]
     },
     "execution_count": 14,
     "metadata": {},
     "output_type": "execute_result"
    }
   ],
   "source": [
    "alldatatest.shape"
   ]
  },
  {
   "cell_type": "code",
   "execution_count": 15,
   "metadata": {
    "collapsed": false
   },
   "outputs": [
    {
     "data": {
      "text/plain": [
       "(487680, 10)"
      ]
     },
     "execution_count": 15,
     "metadata": {},
     "output_type": "execute_result"
    }
   ],
   "source": [
    "alldata.shape"
   ]
  },
  {
   "cell_type": "code",
   "execution_count": 16,
   "metadata": {
    "collapsed": true
   },
   "outputs": [],
   "source": [
    "alldata.drop([\"orientation_W\", \"orientation_X\", \"orientation_Y\", \"orientation_Z\"], axis=1, inplace=True)\n",
    "alldatatest.drop([\"orientation_W\", \"orientation_X\", \"orientation_Y\", \"orientation_Z\"], axis=1, inplace=True)"
   ]
  },
  {
   "cell_type": "code",
   "execution_count": 17,
   "metadata": {
    "collapsed": false
   },
   "outputs": [
    {
     "data": {
      "text/plain": [
       "(487680, 6)"
      ]
     },
     "execution_count": 17,
     "metadata": {},
     "output_type": "execute_result"
    }
   ],
   "source": [
    "alldata.shape"
   ]
  },
  {
   "cell_type": "code",
   "execution_count": 66,
   "metadata": {
    "collapsed": true
   },
   "outputs": [],
   "source": [
    "\n",
    "\n"
   ]
  },
  {
   "cell_type": "code",
   "execution_count": 18,
   "metadata": {
    "collapsed": false
   },
   "outputs": [
    {
     "data": {
      "text/html": [
       "<div>\n",
       "<style scoped>\n",
       "    .dataframe tbody tr th:only-of-type {\n",
       "        vertical-align: middle;\n",
       "    }\n",
       "\n",
       "    .dataframe tbody tr th {\n",
       "        vertical-align: top;\n",
       "    }\n",
       "\n",
       "    .dataframe thead th {\n",
       "        text-align: right;\n",
       "    }\n",
       "</style>\n",
       "<table border=\"1\" class=\"dataframe\">\n",
       "  <thead>\n",
       "    <tr style=\"text-align: right;\">\n",
       "      <th></th>\n",
       "      <th>angular_velocity_X</th>\n",
       "      <th>angular_velocity_Y</th>\n",
       "      <th>angular_velocity_Z</th>\n",
       "      <th>linear_acceleration_X</th>\n",
       "      <th>linear_acceleration_Y</th>\n",
       "      <th>linear_acceleration_Z</th>\n",
       "    </tr>\n",
       "  </thead>\n",
       "  <tbody>\n",
       "    <tr>\n",
       "      <th>0</th>\n",
       "      <td>0.913</td>\n",
       "      <td>0.104</td>\n",
       "      <td>0.087</td>\n",
       "      <td>-0.469</td>\n",
       "      <td>-0.366</td>\n",
       "      <td>-0.136</td>\n",
       "    </tr>\n",
       "    <tr>\n",
       "      <th>1</th>\n",
       "      <td>0.575</td>\n",
       "      <td>0.244</td>\n",
       "      <td>0.098</td>\n",
       "      <td>0.113</td>\n",
       "      <td>-0.645</td>\n",
       "      <td>-0.017</td>\n",
       "    </tr>\n",
       "    <tr>\n",
       "      <th>2</th>\n",
       "      <td>0.060</td>\n",
       "      <td>0.232</td>\n",
       "      <td>0.058</td>\n",
       "      <td>-0.210</td>\n",
       "      <td>-0.605</td>\n",
       "      <td>0.224</td>\n",
       "    </tr>\n",
       "    <tr>\n",
       "      <th>3</th>\n",
       "      <td>-0.112</td>\n",
       "      <td>0.125</td>\n",
       "      <td>0.045</td>\n",
       "      <td>0.159</td>\n",
       "      <td>-0.835</td>\n",
       "      <td>-0.257</td>\n",
       "    </tr>\n",
       "    <tr>\n",
       "      <th>4</th>\n",
       "      <td>0.042</td>\n",
       "      <td>-0.008</td>\n",
       "      <td>0.107</td>\n",
       "      <td>-0.342</td>\n",
       "      <td>-0.662</td>\n",
       "      <td>-0.378</td>\n",
       "    </tr>\n",
       "  </tbody>\n",
       "</table>\n",
       "</div>"
      ],
      "text/plain": [
       "   angular_velocity_X  angular_velocity_Y  angular_velocity_Z  \\\n",
       "0               0.913               0.104               0.087   \n",
       "1               0.575               0.244               0.098   \n",
       "2               0.060               0.232               0.058   \n",
       "3              -0.112               0.125               0.045   \n",
       "4               0.042              -0.008               0.107   \n",
       "\n",
       "   linear_acceleration_X  linear_acceleration_Y  linear_acceleration_Z  \n",
       "0                 -0.469                 -0.366                 -0.136  \n",
       "1                  0.113                 -0.645                 -0.017  \n",
       "2                 -0.210                 -0.605                  0.224  \n",
       "3                  0.159                 -0.835                 -0.257  \n",
       "4                 -0.342                 -0.662                 -0.378  "
      ]
     },
     "execution_count": 18,
     "metadata": {},
     "output_type": "execute_result"
    }
   ],
   "source": [
    "from sklearn.preprocessing import scale\n",
    "x_scale = scale(alldata)\n",
    "x_scale= pd.DataFrame(x_scale, columns=alldata.columns)\n",
    "x_scale.head()"
   ]
  },
  {
   "cell_type": "code",
   "execution_count": null,
   "metadata": {
    "collapsed": true
   },
   "outputs": [],
   "source": []
  },
  {
   "cell_type": "code",
   "execution_count": 19,
   "metadata": {
    "collapsed": false
   },
   "outputs": [
    {
     "data": {
      "text/html": [
       "<div>\n",
       "<style scoped>\n",
       "    .dataframe tbody tr th:only-of-type {\n",
       "        vertical-align: middle;\n",
       "    }\n",
       "\n",
       "    .dataframe tbody tr th {\n",
       "        vertical-align: top;\n",
       "    }\n",
       "\n",
       "    .dataframe thead th {\n",
       "        text-align: right;\n",
       "    }\n",
       "</style>\n",
       "<table border=\"1\" class=\"dataframe\">\n",
       "  <thead>\n",
       "    <tr style=\"text-align: right;\">\n",
       "      <th></th>\n",
       "      <th>angular_velocity_X</th>\n",
       "      <th>angular_velocity_Y</th>\n",
       "      <th>angular_velocity_Z</th>\n",
       "      <th>linear_acceleration_X</th>\n",
       "      <th>linear_acceleration_Y</th>\n",
       "      <th>linear_acceleration_Z</th>\n",
       "    </tr>\n",
       "  </thead>\n",
       "  <tbody>\n",
       "    <tr>\n",
       "      <th>0</th>\n",
       "      <td>-0.061</td>\n",
       "      <td>-0.166</td>\n",
       "      <td>0.038</td>\n",
       "      <td>-0.014</td>\n",
       "      <td>0.620</td>\n",
       "      <td>1.361</td>\n",
       "    </tr>\n",
       "    <tr>\n",
       "      <th>1</th>\n",
       "      <td>-0.999</td>\n",
       "      <td>0.785</td>\n",
       "      <td>-0.104</td>\n",
       "      <td>-0.455</td>\n",
       "      <td>0.517</td>\n",
       "      <td>0.475</td>\n",
       "    </tr>\n",
       "    <tr>\n",
       "      <th>2</th>\n",
       "      <td>-0.707</td>\n",
       "      <td>1.131</td>\n",
       "      <td>-0.004</td>\n",
       "      <td>0.726</td>\n",
       "      <td>-0.298</td>\n",
       "      <td>-0.692</td>\n",
       "    </tr>\n",
       "    <tr>\n",
       "      <th>3</th>\n",
       "      <td>0.608</td>\n",
       "      <td>0.225</td>\n",
       "      <td>0.002</td>\n",
       "      <td>0.319</td>\n",
       "      <td>-0.501</td>\n",
       "      <td>-1.023</td>\n",
       "    </tr>\n",
       "    <tr>\n",
       "      <th>4</th>\n",
       "      <td>1.324</td>\n",
       "      <td>-0.478</td>\n",
       "      <td>0.090</td>\n",
       "      <td>1.786</td>\n",
       "      <td>-0.057</td>\n",
       "      <td>-0.375</td>\n",
       "    </tr>\n",
       "  </tbody>\n",
       "</table>\n",
       "</div>"
      ],
      "text/plain": [
       "   angular_velocity_X  angular_velocity_Y  angular_velocity_Z  \\\n",
       "0              -0.061              -0.166               0.038   \n",
       "1              -0.999               0.785              -0.104   \n",
       "2              -0.707               1.131              -0.004   \n",
       "3               0.608               0.225               0.002   \n",
       "4               1.324              -0.478               0.090   \n",
       "\n",
       "   linear_acceleration_X  linear_acceleration_Y  linear_acceleration_Z  \n",
       "0                 -0.014                  0.620                  1.361  \n",
       "1                 -0.455                  0.517                  0.475  \n",
       "2                  0.726                 -0.298                 -0.692  \n",
       "3                  0.319                 -0.501                 -1.023  \n",
       "4                  1.786                 -0.057                 -0.375  "
      ]
     },
     "execution_count": 19,
     "metadata": {},
     "output_type": "execute_result"
    }
   ],
   "source": [
    "from sklearn.preprocessing import scale\n",
    "x_scal = scale(alldatatest)\n",
    "x_scal= pd.DataFrame(x_scal, columns=alldatatest.columns)\n",
    "x_scal.head()"
   ]
  },
  {
   "cell_type": "code",
   "execution_count": 69,
   "metadata": {
    "collapsed": true
   },
   "outputs": [],
   "source": [
    "#alldatatest.drop([\"series_id\"], axis=1, inplace=True)"
   ]
  },
  {
   "cell_type": "code",
   "execution_count": 20,
   "metadata": {
    "collapsed": false
   },
   "outputs": [
    {
     "data": {
      "text/plain": [
       "(487680, 6)"
      ]
     },
     "execution_count": 20,
     "metadata": {},
     "output_type": "execute_result"
    }
   ],
   "source": [
    "x_scale.shape"
   ]
  },
  {
   "cell_type": "code",
   "execution_count": 21,
   "metadata": {
    "collapsed": false
   },
   "outputs": [
    {
     "data": {
      "text/plain": [
       "dtype('O')"
      ]
     },
     "execution_count": 21,
     "metadata": {},
     "output_type": "execute_result"
    }
   ],
   "source": [
    "y = train1[\"surface\"]\n",
    "y.dtype"
   ]
  },
  {
   "cell_type": "code",
   "execution_count": 22,
   "metadata": {
    "collapsed": false
   },
   "outputs": [
    {
     "data": {
      "text/plain": [
       "(3810L,)"
      ]
     },
     "execution_count": 22,
     "metadata": {},
     "output_type": "execute_result"
    }
   ],
   "source": [
    "y.shape"
   ]
  },
  {
   "cell_type": "code",
   "execution_count": 23,
   "metadata": {
    "collapsed": false
   },
   "outputs": [
    {
     "data": {
      "text/plain": [
       "(487680, 6)"
      ]
     },
     "execution_count": 23,
     "metadata": {},
     "output_type": "execute_result"
    }
   ],
   "source": [
    "x_scal.shape"
   ]
  },
  {
   "cell_type": "code",
   "execution_count": 24,
   "metadata": {
    "collapsed": false
   },
   "outputs": [
    {
     "data": {
      "text/html": [
       "<div>\n",
       "<style scoped>\n",
       "    .dataframe tbody tr th:only-of-type {\n",
       "        vertical-align: middle;\n",
       "    }\n",
       "\n",
       "    .dataframe tbody tr th {\n",
       "        vertical-align: top;\n",
       "    }\n",
       "\n",
       "    .dataframe thead th {\n",
       "        text-align: right;\n",
       "    }\n",
       "</style>\n",
       "<table border=\"1\" class=\"dataframe\">\n",
       "  <thead>\n",
       "    <tr style=\"text-align: right;\">\n",
       "      <th></th>\n",
       "      <th>surface</th>\n",
       "    </tr>\n",
       "  </thead>\n",
       "  <tbody>\n",
       "    <tr>\n",
       "      <th>0</th>\n",
       "      <td>fine_concrete</td>\n",
       "    </tr>\n",
       "    <tr>\n",
       "      <th>1</th>\n",
       "      <td>concrete</td>\n",
       "    </tr>\n",
       "    <tr>\n",
       "      <th>2</th>\n",
       "      <td>concrete</td>\n",
       "    </tr>\n",
       "    <tr>\n",
       "      <th>3</th>\n",
       "      <td>concrete</td>\n",
       "    </tr>\n",
       "    <tr>\n",
       "      <th>4</th>\n",
       "      <td>soft_tiles</td>\n",
       "    </tr>\n",
       "  </tbody>\n",
       "</table>\n",
       "</div>"
      ],
      "text/plain": [
       "         surface\n",
       "0  fine_concrete\n",
       "1       concrete\n",
       "2       concrete\n",
       "3       concrete\n",
       "4     soft_tiles"
      ]
     },
     "execution_count": 24,
     "metadata": {},
     "output_type": "execute_result"
    }
   ],
   "source": [
    "obj_train1 = train1.select_dtypes(include=['object']).copy()\n",
    "obj_train1.head()"
   ]
  },
  {
   "cell_type": "code",
   "execution_count": 25,
   "metadata": {
    "collapsed": false
   },
   "outputs": [
    {
     "data": {
      "text/html": [
       "<div>\n",
       "<style scoped>\n",
       "    .dataframe tbody tr th:only-of-type {\n",
       "        vertical-align: middle;\n",
       "    }\n",
       "\n",
       "    .dataframe tbody tr th {\n",
       "        vertical-align: top;\n",
       "    }\n",
       "\n",
       "    .dataframe thead th {\n",
       "        text-align: right;\n",
       "    }\n",
       "</style>\n",
       "<table border=\"1\" class=\"dataframe\">\n",
       "  <thead>\n",
       "    <tr style=\"text-align: right;\">\n",
       "      <th></th>\n",
       "      <th>surface</th>\n",
       "      <th>surfaces</th>\n",
       "    </tr>\n",
       "  </thead>\n",
       "  <tbody>\n",
       "    <tr>\n",
       "      <th>0</th>\n",
       "      <td>fine_concrete</td>\n",
       "      <td>2</td>\n",
       "    </tr>\n",
       "    <tr>\n",
       "      <th>1</th>\n",
       "      <td>concrete</td>\n",
       "      <td>1</td>\n",
       "    </tr>\n",
       "    <tr>\n",
       "      <th>2</th>\n",
       "      <td>concrete</td>\n",
       "      <td>1</td>\n",
       "    </tr>\n",
       "    <tr>\n",
       "      <th>3</th>\n",
       "      <td>concrete</td>\n",
       "      <td>1</td>\n",
       "    </tr>\n",
       "    <tr>\n",
       "      <th>4</th>\n",
       "      <td>soft_tiles</td>\n",
       "      <td>6</td>\n",
       "    </tr>\n",
       "    <tr>\n",
       "      <th>5</th>\n",
       "      <td>tiled</td>\n",
       "      <td>7</td>\n",
       "    </tr>\n",
       "    <tr>\n",
       "      <th>6</th>\n",
       "      <td>soft_pvc</td>\n",
       "      <td>5</td>\n",
       "    </tr>\n",
       "    <tr>\n",
       "      <th>7</th>\n",
       "      <td>concrete</td>\n",
       "      <td>1</td>\n",
       "    </tr>\n",
       "    <tr>\n",
       "      <th>8</th>\n",
       "      <td>hard_tiles_large_space</td>\n",
       "      <td>4</td>\n",
       "    </tr>\n",
       "    <tr>\n",
       "      <th>9</th>\n",
       "      <td>tiled</td>\n",
       "      <td>7</td>\n",
       "    </tr>\n",
       "    <tr>\n",
       "      <th>10</th>\n",
       "      <td>soft_pvc</td>\n",
       "      <td>5</td>\n",
       "    </tr>\n",
       "    <tr>\n",
       "      <th>11</th>\n",
       "      <td>tiled</td>\n",
       "      <td>7</td>\n",
       "    </tr>\n",
       "    <tr>\n",
       "      <th>12</th>\n",
       "      <td>carpet</td>\n",
       "      <td>0</td>\n",
       "    </tr>\n",
       "    <tr>\n",
       "      <th>13</th>\n",
       "      <td>carpet</td>\n",
       "      <td>0</td>\n",
       "    </tr>\n",
       "    <tr>\n",
       "      <th>14</th>\n",
       "      <td>concrete</td>\n",
       "      <td>1</td>\n",
       "    </tr>\n",
       "    <tr>\n",
       "      <th>15</th>\n",
       "      <td>carpet</td>\n",
       "      <td>0</td>\n",
       "    </tr>\n",
       "    <tr>\n",
       "      <th>16</th>\n",
       "      <td>carpet</td>\n",
       "      <td>0</td>\n",
       "    </tr>\n",
       "    <tr>\n",
       "      <th>17</th>\n",
       "      <td>soft_tiles</td>\n",
       "      <td>6</td>\n",
       "    </tr>\n",
       "    <tr>\n",
       "      <th>18</th>\n",
       "      <td>tiled</td>\n",
       "      <td>7</td>\n",
       "    </tr>\n",
       "    <tr>\n",
       "      <th>19</th>\n",
       "      <td>soft_tiles</td>\n",
       "      <td>6</td>\n",
       "    </tr>\n",
       "    <tr>\n",
       "      <th>20</th>\n",
       "      <td>tiled</td>\n",
       "      <td>7</td>\n",
       "    </tr>\n",
       "    <tr>\n",
       "      <th>21</th>\n",
       "      <td>hard_tiles_large_space</td>\n",
       "      <td>4</td>\n",
       "    </tr>\n",
       "    <tr>\n",
       "      <th>22</th>\n",
       "      <td>soft_tiles</td>\n",
       "      <td>6</td>\n",
       "    </tr>\n",
       "    <tr>\n",
       "      <th>23</th>\n",
       "      <td>tiled</td>\n",
       "      <td>7</td>\n",
       "    </tr>\n",
       "    <tr>\n",
       "      <th>24</th>\n",
       "      <td>soft_tiles</td>\n",
       "      <td>6</td>\n",
       "    </tr>\n",
       "    <tr>\n",
       "      <th>25</th>\n",
       "      <td>soft_tiles</td>\n",
       "      <td>6</td>\n",
       "    </tr>\n",
       "    <tr>\n",
       "      <th>26</th>\n",
       "      <td>fine_concrete</td>\n",
       "      <td>2</td>\n",
       "    </tr>\n",
       "    <tr>\n",
       "      <th>27</th>\n",
       "      <td>hard_tiles</td>\n",
       "      <td>3</td>\n",
       "    </tr>\n",
       "    <tr>\n",
       "      <th>28</th>\n",
       "      <td>tiled</td>\n",
       "      <td>7</td>\n",
       "    </tr>\n",
       "    <tr>\n",
       "      <th>29</th>\n",
       "      <td>hard_tiles_large_space</td>\n",
       "      <td>4</td>\n",
       "    </tr>\n",
       "    <tr>\n",
       "      <th>...</th>\n",
       "      <td>...</td>\n",
       "      <td>...</td>\n",
       "    </tr>\n",
       "    <tr>\n",
       "      <th>3780</th>\n",
       "      <td>concrete</td>\n",
       "      <td>1</td>\n",
       "    </tr>\n",
       "    <tr>\n",
       "      <th>3781</th>\n",
       "      <td>hard_tiles_large_space</td>\n",
       "      <td>4</td>\n",
       "    </tr>\n",
       "    <tr>\n",
       "      <th>3782</th>\n",
       "      <td>fine_concrete</td>\n",
       "      <td>2</td>\n",
       "    </tr>\n",
       "    <tr>\n",
       "      <th>3783</th>\n",
       "      <td>fine_concrete</td>\n",
       "      <td>2</td>\n",
       "    </tr>\n",
       "    <tr>\n",
       "      <th>3784</th>\n",
       "      <td>tiled</td>\n",
       "      <td>7</td>\n",
       "    </tr>\n",
       "    <tr>\n",
       "      <th>3785</th>\n",
       "      <td>wood</td>\n",
       "      <td>8</td>\n",
       "    </tr>\n",
       "    <tr>\n",
       "      <th>3786</th>\n",
       "      <td>fine_concrete</td>\n",
       "      <td>2</td>\n",
       "    </tr>\n",
       "    <tr>\n",
       "      <th>3787</th>\n",
       "      <td>concrete</td>\n",
       "      <td>1</td>\n",
       "    </tr>\n",
       "    <tr>\n",
       "      <th>3788</th>\n",
       "      <td>soft_pvc</td>\n",
       "      <td>5</td>\n",
       "    </tr>\n",
       "    <tr>\n",
       "      <th>3789</th>\n",
       "      <td>wood</td>\n",
       "      <td>8</td>\n",
       "    </tr>\n",
       "    <tr>\n",
       "      <th>3790</th>\n",
       "      <td>hard_tiles_large_space</td>\n",
       "      <td>4</td>\n",
       "    </tr>\n",
       "    <tr>\n",
       "      <th>3791</th>\n",
       "      <td>concrete</td>\n",
       "      <td>1</td>\n",
       "    </tr>\n",
       "    <tr>\n",
       "      <th>3792</th>\n",
       "      <td>soft_pvc</td>\n",
       "      <td>5</td>\n",
       "    </tr>\n",
       "    <tr>\n",
       "      <th>3793</th>\n",
       "      <td>tiled</td>\n",
       "      <td>7</td>\n",
       "    </tr>\n",
       "    <tr>\n",
       "      <th>3794</th>\n",
       "      <td>hard_tiles_large_space</td>\n",
       "      <td>4</td>\n",
       "    </tr>\n",
       "    <tr>\n",
       "      <th>3795</th>\n",
       "      <td>concrete</td>\n",
       "      <td>1</td>\n",
       "    </tr>\n",
       "    <tr>\n",
       "      <th>3796</th>\n",
       "      <td>wood</td>\n",
       "      <td>8</td>\n",
       "    </tr>\n",
       "    <tr>\n",
       "      <th>3797</th>\n",
       "      <td>fine_concrete</td>\n",
       "      <td>2</td>\n",
       "    </tr>\n",
       "    <tr>\n",
       "      <th>3798</th>\n",
       "      <td>concrete</td>\n",
       "      <td>1</td>\n",
       "    </tr>\n",
       "    <tr>\n",
       "      <th>3799</th>\n",
       "      <td>tiled</td>\n",
       "      <td>7</td>\n",
       "    </tr>\n",
       "    <tr>\n",
       "      <th>3800</th>\n",
       "      <td>fine_concrete</td>\n",
       "      <td>2</td>\n",
       "    </tr>\n",
       "    <tr>\n",
       "      <th>3801</th>\n",
       "      <td>hard_tiles_large_space</td>\n",
       "      <td>4</td>\n",
       "    </tr>\n",
       "    <tr>\n",
       "      <th>3802</th>\n",
       "      <td>tiled</td>\n",
       "      <td>7</td>\n",
       "    </tr>\n",
       "    <tr>\n",
       "      <th>3803</th>\n",
       "      <td>wood</td>\n",
       "      <td>8</td>\n",
       "    </tr>\n",
       "    <tr>\n",
       "      <th>3804</th>\n",
       "      <td>tiled</td>\n",
       "      <td>7</td>\n",
       "    </tr>\n",
       "    <tr>\n",
       "      <th>3805</th>\n",
       "      <td>tiled</td>\n",
       "      <td>7</td>\n",
       "    </tr>\n",
       "    <tr>\n",
       "      <th>3806</th>\n",
       "      <td>wood</td>\n",
       "      <td>8</td>\n",
       "    </tr>\n",
       "    <tr>\n",
       "      <th>3807</th>\n",
       "      <td>fine_concrete</td>\n",
       "      <td>2</td>\n",
       "    </tr>\n",
       "    <tr>\n",
       "      <th>3808</th>\n",
       "      <td>tiled</td>\n",
       "      <td>7</td>\n",
       "    </tr>\n",
       "    <tr>\n",
       "      <th>3809</th>\n",
       "      <td>soft_pvc</td>\n",
       "      <td>5</td>\n",
       "    </tr>\n",
       "  </tbody>\n",
       "</table>\n",
       "<p>3810 rows × 2 columns</p>\n",
       "</div>"
      ],
      "text/plain": [
       "                     surface  surfaces\n",
       "0              fine_concrete         2\n",
       "1                   concrete         1\n",
       "2                   concrete         1\n",
       "3                   concrete         1\n",
       "4                 soft_tiles         6\n",
       "5                      tiled         7\n",
       "6                   soft_pvc         5\n",
       "7                   concrete         1\n",
       "8     hard_tiles_large_space         4\n",
       "9                      tiled         7\n",
       "10                  soft_pvc         5\n",
       "11                     tiled         7\n",
       "12                    carpet         0\n",
       "13                    carpet         0\n",
       "14                  concrete         1\n",
       "15                    carpet         0\n",
       "16                    carpet         0\n",
       "17                soft_tiles         6\n",
       "18                     tiled         7\n",
       "19                soft_tiles         6\n",
       "20                     tiled         7\n",
       "21    hard_tiles_large_space         4\n",
       "22                soft_tiles         6\n",
       "23                     tiled         7\n",
       "24                soft_tiles         6\n",
       "25                soft_tiles         6\n",
       "26             fine_concrete         2\n",
       "27                hard_tiles         3\n",
       "28                     tiled         7\n",
       "29    hard_tiles_large_space         4\n",
       "...                      ...       ...\n",
       "3780                concrete         1\n",
       "3781  hard_tiles_large_space         4\n",
       "3782           fine_concrete         2\n",
       "3783           fine_concrete         2\n",
       "3784                   tiled         7\n",
       "3785                    wood         8\n",
       "3786           fine_concrete         2\n",
       "3787                concrete         1\n",
       "3788                soft_pvc         5\n",
       "3789                    wood         8\n",
       "3790  hard_tiles_large_space         4\n",
       "3791                concrete         1\n",
       "3792                soft_pvc         5\n",
       "3793                   tiled         7\n",
       "3794  hard_tiles_large_space         4\n",
       "3795                concrete         1\n",
       "3796                    wood         8\n",
       "3797           fine_concrete         2\n",
       "3798                concrete         1\n",
       "3799                   tiled         7\n",
       "3800           fine_concrete         2\n",
       "3801  hard_tiles_large_space         4\n",
       "3802                   tiled         7\n",
       "3803                    wood         8\n",
       "3804                   tiled         7\n",
       "3805                   tiled         7\n",
       "3806                    wood         8\n",
       "3807           fine_concrete         2\n",
       "3808                   tiled         7\n",
       "3809                soft_pvc         5\n",
       "\n",
       "[3810 rows x 2 columns]"
      ]
     },
     "execution_count": 25,
     "metadata": {},
     "output_type": "execute_result"
    }
   ],
   "source": [
    "from sklearn.preprocessing import LabelEncoder\n",
    "\n",
    "lb_make = LabelEncoder()\n",
    "obj_train1[\"surfaces\"] = lb_make.fit_transform(obj_train1[\"surface\"])\n",
    "obj_train1[[\"surface\", \"surfaces\"]]"
   ]
  },
  {
   "cell_type": "code",
   "execution_count": 26,
   "metadata": {
    "collapsed": false
   },
   "outputs": [
    {
     "data": {
      "text/html": [
       "<div>\n",
       "<style scoped>\n",
       "    .dataframe tbody tr th:only-of-type {\n",
       "        vertical-align: middle;\n",
       "    }\n",
       "\n",
       "    .dataframe tbody tr th {\n",
       "        vertical-align: top;\n",
       "    }\n",
       "\n",
       "    .dataframe thead th {\n",
       "        text-align: right;\n",
       "    }\n",
       "</style>\n",
       "<table border=\"1\" class=\"dataframe\">\n",
       "  <thead>\n",
       "    <tr style=\"text-align: right;\">\n",
       "      <th></th>\n",
       "      <th>surfaces</th>\n",
       "      <th>surface</th>\n",
       "    </tr>\n",
       "  </thead>\n",
       "  <tbody>\n",
       "    <tr>\n",
       "      <th>0</th>\n",
       "      <td>2</td>\n",
       "      <td>fine_concrete</td>\n",
       "    </tr>\n",
       "    <tr>\n",
       "      <th>1</th>\n",
       "      <td>1</td>\n",
       "      <td>concrete</td>\n",
       "    </tr>\n",
       "    <tr>\n",
       "      <th>2</th>\n",
       "      <td>1</td>\n",
       "      <td>concrete</td>\n",
       "    </tr>\n",
       "    <tr>\n",
       "      <th>3</th>\n",
       "      <td>1</td>\n",
       "      <td>concrete</td>\n",
       "    </tr>\n",
       "    <tr>\n",
       "      <th>4</th>\n",
       "      <td>6</td>\n",
       "      <td>soft_tiles</td>\n",
       "    </tr>\n",
       "    <tr>\n",
       "      <th>5</th>\n",
       "      <td>7</td>\n",
       "      <td>tiled</td>\n",
       "    </tr>\n",
       "    <tr>\n",
       "      <th>6</th>\n",
       "      <td>5</td>\n",
       "      <td>soft_pvc</td>\n",
       "    </tr>\n",
       "    <tr>\n",
       "      <th>7</th>\n",
       "      <td>1</td>\n",
       "      <td>concrete</td>\n",
       "    </tr>\n",
       "    <tr>\n",
       "      <th>8</th>\n",
       "      <td>4</td>\n",
       "      <td>hard_tiles_large_space</td>\n",
       "    </tr>\n",
       "    <tr>\n",
       "      <th>9</th>\n",
       "      <td>7</td>\n",
       "      <td>tiled</td>\n",
       "    </tr>\n",
       "    <tr>\n",
       "      <th>10</th>\n",
       "      <td>5</td>\n",
       "      <td>soft_pvc</td>\n",
       "    </tr>\n",
       "    <tr>\n",
       "      <th>11</th>\n",
       "      <td>7</td>\n",
       "      <td>tiled</td>\n",
       "    </tr>\n",
       "    <tr>\n",
       "      <th>12</th>\n",
       "      <td>0</td>\n",
       "      <td>carpet</td>\n",
       "    </tr>\n",
       "    <tr>\n",
       "      <th>13</th>\n",
       "      <td>0</td>\n",
       "      <td>carpet</td>\n",
       "    </tr>\n",
       "    <tr>\n",
       "      <th>14</th>\n",
       "      <td>1</td>\n",
       "      <td>concrete</td>\n",
       "    </tr>\n",
       "    <tr>\n",
       "      <th>15</th>\n",
       "      <td>0</td>\n",
       "      <td>carpet</td>\n",
       "    </tr>\n",
       "    <tr>\n",
       "      <th>16</th>\n",
       "      <td>0</td>\n",
       "      <td>carpet</td>\n",
       "    </tr>\n",
       "    <tr>\n",
       "      <th>17</th>\n",
       "      <td>6</td>\n",
       "      <td>soft_tiles</td>\n",
       "    </tr>\n",
       "    <tr>\n",
       "      <th>18</th>\n",
       "      <td>7</td>\n",
       "      <td>tiled</td>\n",
       "    </tr>\n",
       "    <tr>\n",
       "      <th>19</th>\n",
       "      <td>6</td>\n",
       "      <td>soft_tiles</td>\n",
       "    </tr>\n",
       "    <tr>\n",
       "      <th>20</th>\n",
       "      <td>7</td>\n",
       "      <td>tiled</td>\n",
       "    </tr>\n",
       "    <tr>\n",
       "      <th>21</th>\n",
       "      <td>4</td>\n",
       "      <td>hard_tiles_large_space</td>\n",
       "    </tr>\n",
       "    <tr>\n",
       "      <th>22</th>\n",
       "      <td>6</td>\n",
       "      <td>soft_tiles</td>\n",
       "    </tr>\n",
       "    <tr>\n",
       "      <th>23</th>\n",
       "      <td>7</td>\n",
       "      <td>tiled</td>\n",
       "    </tr>\n",
       "    <tr>\n",
       "      <th>24</th>\n",
       "      <td>6</td>\n",
       "      <td>soft_tiles</td>\n",
       "    </tr>\n",
       "    <tr>\n",
       "      <th>25</th>\n",
       "      <td>6</td>\n",
       "      <td>soft_tiles</td>\n",
       "    </tr>\n",
       "    <tr>\n",
       "      <th>26</th>\n",
       "      <td>2</td>\n",
       "      <td>fine_concrete</td>\n",
       "    </tr>\n",
       "    <tr>\n",
       "      <th>27</th>\n",
       "      <td>3</td>\n",
       "      <td>hard_tiles</td>\n",
       "    </tr>\n",
       "    <tr>\n",
       "      <th>28</th>\n",
       "      <td>7</td>\n",
       "      <td>tiled</td>\n",
       "    </tr>\n",
       "    <tr>\n",
       "      <th>29</th>\n",
       "      <td>4</td>\n",
       "      <td>hard_tiles_large_space</td>\n",
       "    </tr>\n",
       "    <tr>\n",
       "      <th>...</th>\n",
       "      <td>...</td>\n",
       "      <td>...</td>\n",
       "    </tr>\n",
       "    <tr>\n",
       "      <th>3780</th>\n",
       "      <td>1</td>\n",
       "      <td>concrete</td>\n",
       "    </tr>\n",
       "    <tr>\n",
       "      <th>3781</th>\n",
       "      <td>4</td>\n",
       "      <td>hard_tiles_large_space</td>\n",
       "    </tr>\n",
       "    <tr>\n",
       "      <th>3782</th>\n",
       "      <td>2</td>\n",
       "      <td>fine_concrete</td>\n",
       "    </tr>\n",
       "    <tr>\n",
       "      <th>3783</th>\n",
       "      <td>2</td>\n",
       "      <td>fine_concrete</td>\n",
       "    </tr>\n",
       "    <tr>\n",
       "      <th>3784</th>\n",
       "      <td>7</td>\n",
       "      <td>tiled</td>\n",
       "    </tr>\n",
       "    <tr>\n",
       "      <th>3785</th>\n",
       "      <td>8</td>\n",
       "      <td>wood</td>\n",
       "    </tr>\n",
       "    <tr>\n",
       "      <th>3786</th>\n",
       "      <td>2</td>\n",
       "      <td>fine_concrete</td>\n",
       "    </tr>\n",
       "    <tr>\n",
       "      <th>3787</th>\n",
       "      <td>1</td>\n",
       "      <td>concrete</td>\n",
       "    </tr>\n",
       "    <tr>\n",
       "      <th>3788</th>\n",
       "      <td>5</td>\n",
       "      <td>soft_pvc</td>\n",
       "    </tr>\n",
       "    <tr>\n",
       "      <th>3789</th>\n",
       "      <td>8</td>\n",
       "      <td>wood</td>\n",
       "    </tr>\n",
       "    <tr>\n",
       "      <th>3790</th>\n",
       "      <td>4</td>\n",
       "      <td>hard_tiles_large_space</td>\n",
       "    </tr>\n",
       "    <tr>\n",
       "      <th>3791</th>\n",
       "      <td>1</td>\n",
       "      <td>concrete</td>\n",
       "    </tr>\n",
       "    <tr>\n",
       "      <th>3792</th>\n",
       "      <td>5</td>\n",
       "      <td>soft_pvc</td>\n",
       "    </tr>\n",
       "    <tr>\n",
       "      <th>3793</th>\n",
       "      <td>7</td>\n",
       "      <td>tiled</td>\n",
       "    </tr>\n",
       "    <tr>\n",
       "      <th>3794</th>\n",
       "      <td>4</td>\n",
       "      <td>hard_tiles_large_space</td>\n",
       "    </tr>\n",
       "    <tr>\n",
       "      <th>3795</th>\n",
       "      <td>1</td>\n",
       "      <td>concrete</td>\n",
       "    </tr>\n",
       "    <tr>\n",
       "      <th>3796</th>\n",
       "      <td>8</td>\n",
       "      <td>wood</td>\n",
       "    </tr>\n",
       "    <tr>\n",
       "      <th>3797</th>\n",
       "      <td>2</td>\n",
       "      <td>fine_concrete</td>\n",
       "    </tr>\n",
       "    <tr>\n",
       "      <th>3798</th>\n",
       "      <td>1</td>\n",
       "      <td>concrete</td>\n",
       "    </tr>\n",
       "    <tr>\n",
       "      <th>3799</th>\n",
       "      <td>7</td>\n",
       "      <td>tiled</td>\n",
       "    </tr>\n",
       "    <tr>\n",
       "      <th>3800</th>\n",
       "      <td>2</td>\n",
       "      <td>fine_concrete</td>\n",
       "    </tr>\n",
       "    <tr>\n",
       "      <th>3801</th>\n",
       "      <td>4</td>\n",
       "      <td>hard_tiles_large_space</td>\n",
       "    </tr>\n",
       "    <tr>\n",
       "      <th>3802</th>\n",
       "      <td>7</td>\n",
       "      <td>tiled</td>\n",
       "    </tr>\n",
       "    <tr>\n",
       "      <th>3803</th>\n",
       "      <td>8</td>\n",
       "      <td>wood</td>\n",
       "    </tr>\n",
       "    <tr>\n",
       "      <th>3804</th>\n",
       "      <td>7</td>\n",
       "      <td>tiled</td>\n",
       "    </tr>\n",
       "    <tr>\n",
       "      <th>3805</th>\n",
       "      <td>7</td>\n",
       "      <td>tiled</td>\n",
       "    </tr>\n",
       "    <tr>\n",
       "      <th>3806</th>\n",
       "      <td>8</td>\n",
       "      <td>wood</td>\n",
       "    </tr>\n",
       "    <tr>\n",
       "      <th>3807</th>\n",
       "      <td>2</td>\n",
       "      <td>fine_concrete</td>\n",
       "    </tr>\n",
       "    <tr>\n",
       "      <th>3808</th>\n",
       "      <td>7</td>\n",
       "      <td>tiled</td>\n",
       "    </tr>\n",
       "    <tr>\n",
       "      <th>3809</th>\n",
       "      <td>5</td>\n",
       "      <td>soft_pvc</td>\n",
       "    </tr>\n",
       "  </tbody>\n",
       "</table>\n",
       "<p>3810 rows × 2 columns</p>\n",
       "</div>"
      ],
      "text/plain": [
       "      surfaces                 surface\n",
       "0            2           fine_concrete\n",
       "1            1                concrete\n",
       "2            1                concrete\n",
       "3            1                concrete\n",
       "4            6              soft_tiles\n",
       "5            7                   tiled\n",
       "6            5                soft_pvc\n",
       "7            1                concrete\n",
       "8            4  hard_tiles_large_space\n",
       "9            7                   tiled\n",
       "10           5                soft_pvc\n",
       "11           7                   tiled\n",
       "12           0                  carpet\n",
       "13           0                  carpet\n",
       "14           1                concrete\n",
       "15           0                  carpet\n",
       "16           0                  carpet\n",
       "17           6              soft_tiles\n",
       "18           7                   tiled\n",
       "19           6              soft_tiles\n",
       "20           7                   tiled\n",
       "21           4  hard_tiles_large_space\n",
       "22           6              soft_tiles\n",
       "23           7                   tiled\n",
       "24           6              soft_tiles\n",
       "25           6              soft_tiles\n",
       "26           2           fine_concrete\n",
       "27           3              hard_tiles\n",
       "28           7                   tiled\n",
       "29           4  hard_tiles_large_space\n",
       "...        ...                     ...\n",
       "3780         1                concrete\n",
       "3781         4  hard_tiles_large_space\n",
       "3782         2           fine_concrete\n",
       "3783         2           fine_concrete\n",
       "3784         7                   tiled\n",
       "3785         8                    wood\n",
       "3786         2           fine_concrete\n",
       "3787         1                concrete\n",
       "3788         5                soft_pvc\n",
       "3789         8                    wood\n",
       "3790         4  hard_tiles_large_space\n",
       "3791         1                concrete\n",
       "3792         5                soft_pvc\n",
       "3793         7                   tiled\n",
       "3794         4  hard_tiles_large_space\n",
       "3795         1                concrete\n",
       "3796         8                    wood\n",
       "3797         2           fine_concrete\n",
       "3798         1                concrete\n",
       "3799         7                   tiled\n",
       "3800         2           fine_concrete\n",
       "3801         4  hard_tiles_large_space\n",
       "3802         7                   tiled\n",
       "3803         8                    wood\n",
       "3804         7                   tiled\n",
       "3805         7                   tiled\n",
       "3806         8                    wood\n",
       "3807         2           fine_concrete\n",
       "3808         7                   tiled\n",
       "3809         5                soft_pvc\n",
       "\n",
       "[3810 rows x 2 columns]"
      ]
     },
     "execution_count": 26,
     "metadata": {},
     "output_type": "execute_result"
    }
   ],
   "source": [
    "y1 =obj_train1[[\"surfaces\", \"surface\",]]\n",
    "y1"
   ]
  },
  {
   "cell_type": "code",
   "execution_count": 141,
   "metadata": {
    "collapsed": false
   },
   "outputs": [
    {
     "data": {
      "text/plain": [
       "(3810, 2)"
      ]
     },
     "execution_count": 141,
     "metadata": {},
     "output_type": "execute_result"
    }
   ],
   "source": [
    "obj_train1.shape"
   ]
  },
  {
   "cell_type": "code",
   "execution_count": 28,
   "metadata": {
    "collapsed": true
   },
   "outputs": [],
   "source": [
    "surf = pd.DataFrame(y1)"
   ]
  },
  {
   "cell_type": "code",
   "execution_count": 29,
   "metadata": {
    "collapsed": false
   },
   "outputs": [],
   "source": [
    "\n",
    "training= pd.concat([x_scale, surf], axis=1, sort=False)"
   ]
  },
  {
   "cell_type": "code",
   "execution_count": 30,
   "metadata": {
    "collapsed": false
   },
   "outputs": [
    {
     "data": {
      "text/html": [
       "<div>\n",
       "<style scoped>\n",
       "    .dataframe tbody tr th:only-of-type {\n",
       "        vertical-align: middle;\n",
       "    }\n",
       "\n",
       "    .dataframe tbody tr th {\n",
       "        vertical-align: top;\n",
       "    }\n",
       "\n",
       "    .dataframe thead th {\n",
       "        text-align: right;\n",
       "    }\n",
       "</style>\n",
       "<table border=\"1\" class=\"dataframe\">\n",
       "  <thead>\n",
       "    <tr style=\"text-align: right;\">\n",
       "      <th></th>\n",
       "      <th>angular_velocity_X</th>\n",
       "      <th>angular_velocity_Y</th>\n",
       "      <th>angular_velocity_Z</th>\n",
       "      <th>linear_acceleration_X</th>\n",
       "      <th>linear_acceleration_Y</th>\n",
       "      <th>linear_acceleration_Z</th>\n",
       "      <th>surfaces</th>\n",
       "      <th>surface</th>\n",
       "    </tr>\n",
       "  </thead>\n",
       "  <tbody>\n",
       "    <tr>\n",
       "      <th>0</th>\n",
       "      <td>0.913</td>\n",
       "      <td>0.104</td>\n",
       "      <td>0.087</td>\n",
       "      <td>-0.469</td>\n",
       "      <td>-0.366</td>\n",
       "      <td>-0.136</td>\n",
       "      <td>2.000</td>\n",
       "      <td>fine_concrete</td>\n",
       "    </tr>\n",
       "    <tr>\n",
       "      <th>1</th>\n",
       "      <td>0.575</td>\n",
       "      <td>0.244</td>\n",
       "      <td>0.098</td>\n",
       "      <td>0.113</td>\n",
       "      <td>-0.645</td>\n",
       "      <td>-0.017</td>\n",
       "      <td>1.000</td>\n",
       "      <td>concrete</td>\n",
       "    </tr>\n",
       "    <tr>\n",
       "      <th>2</th>\n",
       "      <td>0.060</td>\n",
       "      <td>0.232</td>\n",
       "      <td>0.058</td>\n",
       "      <td>-0.210</td>\n",
       "      <td>-0.605</td>\n",
       "      <td>0.224</td>\n",
       "      <td>1.000</td>\n",
       "      <td>concrete</td>\n",
       "    </tr>\n",
       "    <tr>\n",
       "      <th>3</th>\n",
       "      <td>-0.112</td>\n",
       "      <td>0.125</td>\n",
       "      <td>0.045</td>\n",
       "      <td>0.159</td>\n",
       "      <td>-0.835</td>\n",
       "      <td>-0.257</td>\n",
       "      <td>1.000</td>\n",
       "      <td>concrete</td>\n",
       "    </tr>\n",
       "    <tr>\n",
       "      <th>4</th>\n",
       "      <td>0.042</td>\n",
       "      <td>-0.008</td>\n",
       "      <td>0.107</td>\n",
       "      <td>-0.342</td>\n",
       "      <td>-0.662</td>\n",
       "      <td>-0.378</td>\n",
       "      <td>6.000</td>\n",
       "      <td>soft_tiles</td>\n",
       "    </tr>\n",
       "  </tbody>\n",
       "</table>\n",
       "</div>"
      ],
      "text/plain": [
       "   angular_velocity_X  angular_velocity_Y  angular_velocity_Z  \\\n",
       "0               0.913               0.104               0.087   \n",
       "1               0.575               0.244               0.098   \n",
       "2               0.060               0.232               0.058   \n",
       "3              -0.112               0.125               0.045   \n",
       "4               0.042              -0.008               0.107   \n",
       "\n",
       "   linear_acceleration_X  linear_acceleration_Y  linear_acceleration_Z  \\\n",
       "0                 -0.469                 -0.366                 -0.136   \n",
       "1                  0.113                 -0.645                 -0.017   \n",
       "2                 -0.210                 -0.605                  0.224   \n",
       "3                  0.159                 -0.835                 -0.257   \n",
       "4                 -0.342                 -0.662                 -0.378   \n",
       "\n",
       "   surfaces        surface  \n",
       "0     2.000  fine_concrete  \n",
       "1     1.000       concrete  \n",
       "2     1.000       concrete  \n",
       "3     1.000       concrete  \n",
       "4     6.000     soft_tiles  "
      ]
     },
     "execution_count": 30,
     "metadata": {},
     "output_type": "execute_result"
    }
   ],
   "source": [
    "training.head()"
   ]
  },
  {
   "cell_type": "code",
   "execution_count": 31,
   "metadata": {
    "collapsed": true
   },
   "outputs": [],
   "source": [
    "testing = pd.concat([x_scal, surf], axis=1, sort=False)"
   ]
  },
  {
   "cell_type": "code",
   "execution_count": 32,
   "metadata": {
    "collapsed": false
   },
   "outputs": [
    {
     "data": {
      "text/html": [
       "<div>\n",
       "<style scoped>\n",
       "    .dataframe tbody tr th:only-of-type {\n",
       "        vertical-align: middle;\n",
       "    }\n",
       "\n",
       "    .dataframe tbody tr th {\n",
       "        vertical-align: top;\n",
       "    }\n",
       "\n",
       "    .dataframe thead th {\n",
       "        text-align: right;\n",
       "    }\n",
       "</style>\n",
       "<table border=\"1\" class=\"dataframe\">\n",
       "  <thead>\n",
       "    <tr style=\"text-align: right;\">\n",
       "      <th></th>\n",
       "      <th>angular_velocity_X</th>\n",
       "      <th>angular_velocity_Y</th>\n",
       "      <th>angular_velocity_Z</th>\n",
       "      <th>linear_acceleration_X</th>\n",
       "      <th>linear_acceleration_Y</th>\n",
       "      <th>linear_acceleration_Z</th>\n",
       "      <th>surfaces</th>\n",
       "      <th>surface</th>\n",
       "    </tr>\n",
       "  </thead>\n",
       "  <tbody>\n",
       "    <tr>\n",
       "      <th>0</th>\n",
       "      <td>-0.061</td>\n",
       "      <td>-0.166</td>\n",
       "      <td>0.038</td>\n",
       "      <td>-0.014</td>\n",
       "      <td>0.620</td>\n",
       "      <td>1.361</td>\n",
       "      <td>2.000</td>\n",
       "      <td>fine_concrete</td>\n",
       "    </tr>\n",
       "    <tr>\n",
       "      <th>1</th>\n",
       "      <td>-0.999</td>\n",
       "      <td>0.785</td>\n",
       "      <td>-0.104</td>\n",
       "      <td>-0.455</td>\n",
       "      <td>0.517</td>\n",
       "      <td>0.475</td>\n",
       "      <td>1.000</td>\n",
       "      <td>concrete</td>\n",
       "    </tr>\n",
       "    <tr>\n",
       "      <th>2</th>\n",
       "      <td>-0.707</td>\n",
       "      <td>1.131</td>\n",
       "      <td>-0.004</td>\n",
       "      <td>0.726</td>\n",
       "      <td>-0.298</td>\n",
       "      <td>-0.692</td>\n",
       "      <td>1.000</td>\n",
       "      <td>concrete</td>\n",
       "    </tr>\n",
       "    <tr>\n",
       "      <th>3</th>\n",
       "      <td>0.608</td>\n",
       "      <td>0.225</td>\n",
       "      <td>0.002</td>\n",
       "      <td>0.319</td>\n",
       "      <td>-0.501</td>\n",
       "      <td>-1.023</td>\n",
       "      <td>1.000</td>\n",
       "      <td>concrete</td>\n",
       "    </tr>\n",
       "    <tr>\n",
       "      <th>4</th>\n",
       "      <td>1.324</td>\n",
       "      <td>-0.478</td>\n",
       "      <td>0.090</td>\n",
       "      <td>1.786</td>\n",
       "      <td>-0.057</td>\n",
       "      <td>-0.375</td>\n",
       "      <td>6.000</td>\n",
       "      <td>soft_tiles</td>\n",
       "    </tr>\n",
       "  </tbody>\n",
       "</table>\n",
       "</div>"
      ],
      "text/plain": [
       "   angular_velocity_X  angular_velocity_Y  angular_velocity_Z  \\\n",
       "0              -0.061              -0.166               0.038   \n",
       "1              -0.999               0.785              -0.104   \n",
       "2              -0.707               1.131              -0.004   \n",
       "3               0.608               0.225               0.002   \n",
       "4               1.324              -0.478               0.090   \n",
       "\n",
       "   linear_acceleration_X  linear_acceleration_Y  linear_acceleration_Z  \\\n",
       "0                 -0.014                  0.620                  1.361   \n",
       "1                 -0.455                  0.517                  0.475   \n",
       "2                  0.726                 -0.298                 -0.692   \n",
       "3                  0.319                 -0.501                 -1.023   \n",
       "4                  1.786                 -0.057                 -0.375   \n",
       "\n",
       "   surfaces        surface  \n",
       "0     2.000  fine_concrete  \n",
       "1     1.000       concrete  \n",
       "2     1.000       concrete  \n",
       "3     1.000       concrete  \n",
       "4     6.000     soft_tiles  "
      ]
     },
     "execution_count": 32,
     "metadata": {},
     "output_type": "execute_result"
    }
   ],
   "source": [
    "testing.head()"
   ]
  },
  {
   "cell_type": "code",
   "execution_count": 33,
   "metadata": {
    "collapsed": false
   },
   "outputs": [
    {
     "data": {
      "text/plain": [
       "(487680, 8)"
      ]
     },
     "execution_count": 33,
     "metadata": {},
     "output_type": "execute_result"
    }
   ],
   "source": [
    "testing.shape"
   ]
  },
  {
   "cell_type": "code",
   "execution_count": 85,
   "metadata": {
    "collapsed": true
   },
   "outputs": [],
   "source": [
    "#testing.drop([\"series_id\"], axis=1, inplace=True)"
   ]
  },
  {
   "cell_type": "code",
   "execution_count": 34,
   "metadata": {
    "collapsed": false
   },
   "outputs": [
    {
     "data": {
      "text/plain": [
       "angular_velocity_X            0\n",
       "angular_velocity_Y            0\n",
       "angular_velocity_Z            0\n",
       "linear_acceleration_X         0\n",
       "linear_acceleration_Y         0\n",
       "linear_acceleration_Z         0\n",
       "surfaces                 483870\n",
       "surface                  483870\n",
       "dtype: int64"
      ]
     },
     "execution_count": 34,
     "metadata": {},
     "output_type": "execute_result"
    }
   ],
   "source": [
    "training.isnull().sum()"
   ]
  },
  {
   "cell_type": "code",
   "execution_count": 35,
   "metadata": {
    "collapsed": false
   },
   "outputs": [
    {
     "data": {
      "text/plain": [
       "angular_velocity_X            0\n",
       "angular_velocity_Y            0\n",
       "angular_velocity_Z            0\n",
       "linear_acceleration_X         0\n",
       "linear_acceleration_Y         0\n",
       "linear_acceleration_Z         0\n",
       "surfaces                 483870\n",
       "surface                  483870\n",
       "dtype: int64"
      ]
     },
     "execution_count": 35,
     "metadata": {},
     "output_type": "execute_result"
    }
   ],
   "source": [
    "testing.isnull().sum()"
   ]
  },
  {
   "cell_type": "code",
   "execution_count": null,
   "metadata": {
    "collapsed": true
   },
   "outputs": [],
   "source": []
  },
  {
   "cell_type": "code",
   "execution_count": 37,
   "metadata": {
    "collapsed": false
   },
   "outputs": [],
   "source": [
    "\n",
    "training[\"surfaces\"].fillna(0, inplace=True)\n",
    "\n",
    "\n",
    "training[\"surface\"].fillna(0, inplace=True)\n",
    "\n",
    "testing[\"surface\"].fillna(0, inplace=True)\n",
    "testing[\"surfaces\"].fillna(0, inplace=True)\n"
   ]
  },
  {
   "cell_type": "code",
   "execution_count": 38,
   "metadata": {
    "collapsed": false
   },
   "outputs": [
    {
     "data": {
      "text/plain": [
       "angular_velocity_X       0\n",
       "angular_velocity_Y       0\n",
       "angular_velocity_Z       0\n",
       "linear_acceleration_X    0\n",
       "linear_acceleration_Y    0\n",
       "linear_acceleration_Z    0\n",
       "surfaces                 0\n",
       "surface                  0\n",
       "dtype: int64"
      ]
     },
     "execution_count": 38,
     "metadata": {},
     "output_type": "execute_result"
    }
   ],
   "source": [
    "testing.isnull().sum()"
   ]
  },
  {
   "cell_type": "code",
   "execution_count": 39,
   "metadata": {
    "collapsed": false
   },
   "outputs": [],
   "source": [
    "training.drop([\"surface\"], axis=1, inplace=True)\n",
    "testing.drop([\"surface\"], axis=1, inplace=True)"
   ]
  },
  {
   "cell_type": "code",
   "execution_count": 40,
   "metadata": {
    "collapsed": false
   },
   "outputs": [
    {
     "data": {
      "text/plain": [
       "(487680, 7)"
      ]
     },
     "execution_count": 40,
     "metadata": {},
     "output_type": "execute_result"
    }
   ],
   "source": [
    "testing.shape"
   ]
  },
  {
   "cell_type": "code",
   "execution_count": 41,
   "metadata": {
    "collapsed": false
   },
   "outputs": [
    {
     "data": {
      "text/plain": [
       "(487680, 7)"
      ]
     },
     "execution_count": 41,
     "metadata": {},
     "output_type": "execute_result"
    }
   ],
   "source": [
    "training.shape"
   ]
  },
  {
   "cell_type": "code",
   "execution_count": null,
   "metadata": {
    "collapsed": true
   },
   "outputs": [],
   "source": [
    "import numpy as np\n",
    "from sklearn.discriminant_analysis import LinearDiscriminantAnalysis\n",
    "\n",
    "clf = LinearDiscriminantAnalysis()\n",
    "clf.fit(X, y)\n",
    "print(clf.predict()\n"
   ]
  },
  {
   "cell_type": "code",
   "execution_count": 46,
   "metadata": {
    "collapsed": true
   },
   "outputs": [],
   "source": [
    "from sklearn.discriminant_analysis import LinearDiscriminantAnalysis as LDA\n",
    "lda = LDA(n_components = 2)\n",
    "X_train = lda.fit_transform(XTRAIN,YTRAIN)\n",
    "X_test = lda.transform(XTEST)"
   ]
  },
  {
   "cell_type": "code",
   "execution_count": 49,
   "metadata": {
    "collapsed": false
   },
   "outputs": [
    {
     "data": {
      "text/plain": [
       "array([[ 0.07207194, -0.03573811],\n",
       "       [ 0.08931729, -0.7508862 ],\n",
       "       [ 0.05674043, -0.58998435],\n",
       "       ...,\n",
       "       [-0.42491271, -0.17897998],\n",
       "       [-0.47079105,  0.03813981],\n",
       "       [-0.51168828,  0.42673466]])"
      ]
     },
     "execution_count": 49,
     "metadata": {},
     "output_type": "execute_result"
    }
   ],
   "source": [
    "X_train"
   ]
  },
  {
   "cell_type": "code",
   "execution_count": 50,
   "metadata": {
    "collapsed": false
   },
   "outputs": [
    {
     "data": {
      "text/plain": [
       "array([[ 0.0481022 , -0.01641757],\n",
       "       [-0.29943743, -0.09601539],\n",
       "       [-0.23225997, -1.2334909 ],\n",
       "       ...,\n",
       "       [-1.94699804, -0.23737169],\n",
       "       [-1.96564312, -0.15573683],\n",
       "       [-1.97757453, -0.20679686]])"
      ]
     },
     "execution_count": 50,
     "metadata": {},
     "output_type": "execute_result"
    }
   ],
   "source": [
    "X_test"
   ]
  },
  {
   "cell_type": "code",
   "execution_count": 44,
   "metadata": {
    "collapsed": true
   },
   "outputs": [],
   "source": [
    "XTEST = testing.iloc[:487680,1:6]\n",
    "YTEST = training.iloc[:, -1]"
   ]
  },
  {
   "cell_type": "code",
   "execution_count": 45,
   "metadata": {
    "collapsed": false
   },
   "outputs": [],
   "source": [
    "XTRAIN = training.iloc[:487680,1:6]\n",
    "YTRAIN = training.iloc[:, -1]"
   ]
  },
  {
   "cell_type": "code",
   "execution_count": 51,
   "metadata": {
    "collapsed": false
   },
   "outputs": [],
   "source": [
    "#from sklearn import datasets\n",
    "from sklearn.multiclass import OneVsRestClassifier\n",
    "from sklearn.svm import LinearSVC\n",
    "OVR = OneVsRestClassifier(LinearSVC(random_state=0))\n",
    "OVR.fit(X_train,YTRAIN)\n",
    "PREDI = OVR.predict(X_test)"
   ]
  },
  {
   "cell_type": "code",
   "execution_count": null,
   "metadata": {
    "collapsed": true
   },
   "outputs": [],
   "source": []
  },
  {
   "cell_type": "code",
   "execution_count": 52,
   "metadata": {
    "collapsed": false
   },
   "outputs": [
    {
     "name": "stdout",
     "output_type": "stream",
     "text": [
      "Accuracy of SVC linear test set: 0.99\n"
     ]
    }
   ],
   "source": [
    "print('Accuracy of SVC linear test set: {:.2f}'.format(OVR.score(X_test, YTRAIN)))"
   ]
  },
  {
   "cell_type": "code",
   "execution_count": 53,
   "metadata": {
    "collapsed": true
   },
   "outputs": [],
   "source": [
    "%matplotlib inline\n",
    "from sklearn import metrics"
   ]
  },
  {
   "cell_type": "code",
   "execution_count": 54,
   "metadata": {
    "collapsed": false
   },
   "outputs": [
    {
     "name": "stdout",
     "output_type": "stream",
     "text": [
      "('Accuracy:', 0.9925750492125984)\n"
     ]
    }
   ],
   "source": [
    "print(\"Accuracy:\",metrics.accuracy_score(YTRAIN, PREDI))\n"
   ]
  },
  {
   "cell_type": "code",
   "execution_count": 55,
   "metadata": {
    "collapsed": false
   },
   "outputs": [],
   "source": [
    "sub_df = pd.DataFrame({\"series_id\": te})\n",
    "sub_df[\"surface\"] = PREDI\n",
    "sub_df.to_csv(\"subm.csv\", index=False)"
   ]
  },
  {
   "cell_type": "code",
   "execution_count": 31,
   "metadata": {
    "collapsed": false
   },
   "outputs": [
    {
     "data": {
      "image/png": "[encoded data removed]",
      "text/plain": [
       "<matplotlib.figure.Figure at 0x12154710>"
      ]
     },
     "metadata": {},
     "output_type": "display_data"
    }
   ],
   "source": [
    "import seaborn as sns\n",
    "sns.set(style=\"darkgrid\")\n",
    "ax = sns.countplot(x=\"surface\", data=train1)"
   ]
  },
  {
   "cell_type": "code",
   "execution_count": 33,
   "metadata": {
    "collapsed": false
   },
   "outputs": [
    {
     "data": {
      "text/plain": [
       "<seaborn.axisgrid.FacetGrid at 0x188e9da0>"
      ]
     },
     "execution_count": 33,
     "metadata": {},
     "output_type": "execute_result"
    },
    {
     "data": {
      "image/png": "[encoded data removed]",
      "text/plain": [
       "<matplotlib.figure.Figure at 0x1cd2c2b0>"
      ]
     },
     "metadata": {},
     "output_type": "display_data"
    }
   ],
   "source": [
    "num = [f for f in alldata.columns if alldata.dtypes[f] != 'object']\n",
    "\n",
    "nd = pd.melt(alldata, value_vars = num)\n",
    "n1 = sns.FacetGrid (nd, col='variable', col_wrap=4, sharex=False, sharey = False)\n",
    "n1 = n1.map(sns.distplot, 'value')\n",
    "n1"
   ]
  },
  {
   "cell_type": "code",
   "execution_count": 60,
   "metadata": {
    "collapsed": true
   },
   "outputs": [],
   "source": [
    "from sklearn.ensemble import RandomForestClassifier\n",
    "from sklearn.datasets import make_classification"
   ]
  },
  {
   "cell_type": "code",
   "execution_count": 65,
   "metadata": {
    "collapsed": true
   },
   "outputs": [],
   "source": [
    "X_train,YTRAIN = make_classification(n_samples=487680, n_features=2,\n",
    "                           n_informative=2, n_redundant=0,\n",
    "                            random_state=0, shuffle=False)\n",
    "\n"
   ]
  },
  {
   "cell_type": "code",
   "execution_count": 66,
   "metadata": {
    "collapsed": false
   },
   "outputs": [
    {
     "data": {
      "text/plain": [
       "RandomForestClassifier(bootstrap=True, class_weight=None, criterion='gini',\n",
       "            max_depth=2, max_features='auto', max_leaf_nodes=None,\n",
       "            min_impurity_decrease=0.0, min_impurity_split=None,\n",
       "            min_samples_leaf=1, min_samples_split=2,\n",
       "            min_weight_fraction_leaf=0.0, n_estimators=100, n_jobs=None,\n",
       "            oob_score=False, random_state=0, verbose=0, warm_start=False)"
      ]
     },
     "execution_count": 66,
     "metadata": {},
     "output_type": "execute_result"
    }
   ],
   "source": [
    "clf = RandomForestClassifier(n_estimators=100, max_depth=2,\n",
    "                             random_state=0)\n",
    "clf.fit(X_train,YTRAIN)\n"
   ]
  },
  {
   "cell_type": "code",
   "execution_count": 67,
   "metadata": {
    "collapsed": false
   },
   "outputs": [
    {
     "name": "stdout",
     "output_type": "stream",
     "text": [
      "[0.17724704 0.82275296]\n"
     ]
    }
   ],
   "source": [
    "print(clf.feature_importances_)\n",
    "\n",
    "\n"
   ]
  },
  {
   "cell_type": "code",
   "execution_count": 68,
   "metadata": {
    "collapsed": false
   },
   "outputs": [],
   "source": [
    "PREDIC = clf.predict(X_test) "
   ]
  },
  {
   "cell_type": "code",
   "execution_count": 69,
   "metadata": {
    "collapsed": true
   },
   "outputs": [],
   "source": [
    "%matplotlib inline\n",
    "from sklearn import metrics"
   ]
  },
  {
   "cell_type": "code",
   "execution_count": 70,
   "metadata": {
    "collapsed": false
   },
   "outputs": [
    {
     "name": "stdout",
     "output_type": "stream",
     "text": [
      "('Accuracy:', 0.5002399114173228)\n"
     ]
    }
   ],
   "source": [
    "print(\"Accuracy:\",metrics.accuracy_score(YTRAIN, PREDIC))"
   ]
  },
  {
   "cell_type": "code",
   "execution_count": null,
   "metadata": {
    "collapsed": true
   },
   "outputs": [],
   "source": []
  }
 ],
 "metadata": {
  "kernelspec": {
   "display_name": "Python 2",
   "language": "python",
   "name": "python2"
  },
  "language_info": {
   "codemirror_mode": {
    "name": "ipython",
    "version": 2
   },
   "file_extension": ".py",
   "mimetype": "text/x-python",
   "name": "python",
   "nbconvert_exporter": "python",
   "pygments_lexer": "ipython2",
   "version": "2.7.13"
  }
 },
 "nbformat": 4,
 "nbformat_minor": 2
}
